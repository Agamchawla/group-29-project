{
 "cells": [
  {
   "cell_type": "markdown",
   "metadata": {},
   "source": [
    "# Project Report"
   ]
  },
  {
   "cell_type": "markdown",
   "metadata": {},
   "source": [
    "# **Using age, cholesterol and heart rate to classify heart disease patients from Cleveland.**\n",
    "#### Shreya Arora, Youssef Saleh, Zahra Vink."
   ]
  },
  {
   "cell_type": "markdown",
   "metadata": {},
   "source": [
    "### Introduction\n",
    "The term heart (cardiovascular) disease describes a range of heart conditions that arise from problems with the heart and blood vessels. One of these is coronary artery disease, which is when the arteries supplying blood to the heart narrow. Many risk factors can increase the chance of developing this disease, including cholesterol levels and maximum heart rate (Cleveland Clinic, n.d.).\n",
    "\n",
    "High levels of cholesterol result in fatty deposits in blood vessels that clog them, making it difficult for enough blood to flow through the arteries. When these deposits break suddenly, they form a clot resulting in a heart attack or stroke. If a patient has heart disease, their maximum heart rate could significantly decrease (WebMD, 2002). \n",
    "\n",
    "Thus, our question is: **Is a new patient likely to have heart disease, based on cholesterol levels and maximum heart rate achieved?** To answer this, we will use a knn classifier algorithm.\n",
    "\n",
    "We are using the processed.cleveland.data from the Heart Disease Database (originally collected from the Cleveland Clinic Foundation) to predict if a patient from Cleveland will have heart disease. The columns are as follows:\n",
    "1. **age**: age\n",
    "2. **sex**: sex (1 = male, 0 = female)\n",
    "3. **cp**: chest pain type\n",
    "4. **trestbps**: resting blood pressure in mmHg\n",
    "5. **chol**: serum cholestoral in mg/dl\n",
    "6. **fbs**: fasting blood sugar > 120 mg/dl? (1 = True, 0 = False)\n",
    "7. **restecg**: resting electrocardiographic results\n",
    "8. **thalach**: maximum heart rate achieved\n",
    "9. **exang**: whether exercise induced angina (1 = True, 0 = False)\n",
    "10. **oldpeak**: ST depression induced by exercise, relative to rest\n",
    "11. **slope**: the slope of the peak exercise ST segment (1 = upslope, 2 = flat, 3 = downslope)\n",
    "12. **ca**: number of major vessels (0-3) colored by flourosopy\n",
    "13. **thal**: (3 = normal, 6 = fixed defect, 7 = reversable defect)\n",
    "14. **num**: diagnosis of heart disease (1,2,3,4 = presence, 0 = no presence)\n",
    "\n",
    "Each column is numeric-valued and there are 303 rows, with missing data represented as the string \"?\".\n",
    "\n",
    "Based on the list above, we will be using `chol` and `thalach` as predictors, to classify patients on whether or not they have heart disease."
   ]
  },
  {
   "cell_type": "markdown",
   "metadata": {},
   "source": [
    "### Preprocessing and exploratory data analysis"
   ]
  },
  {
   "cell_type": "markdown",
   "metadata": {},
   "source": [
    "#### Importing libraries"
   ]
  },
  {
   "cell_type": "code",
   "execution_count": 4,
   "metadata": {},
   "outputs": [
    {
     "name": "stderr",
     "output_type": "stream",
     "text": [
      "── \u001b[1mAttaching packages\u001b[22m ─────────────────────────────────────── tidyverse 1.3.0 ──\n",
      "\n",
      "\u001b[32m✔\u001b[39m \u001b[34mggplot2\u001b[39m 3.3.2     \u001b[32m✔\u001b[39m \u001b[34mpurrr  \u001b[39m 0.3.4\n",
      "\u001b[32m✔\u001b[39m \u001b[34mtibble \u001b[39m 3.0.3     \u001b[32m✔\u001b[39m \u001b[34mdplyr  \u001b[39m 1.0.2\n",
      "\u001b[32m✔\u001b[39m \u001b[34mtidyr  \u001b[39m 1.1.2     \u001b[32m✔\u001b[39m \u001b[34mstringr\u001b[39m 1.4.0\n",
      "\u001b[32m✔\u001b[39m \u001b[34mreadr  \u001b[39m 1.3.1     \u001b[32m✔\u001b[39m \u001b[34mforcats\u001b[39m 0.5.0\n",
      "\n",
      "Warning message:\n",
      "“package ‘ggplot2’ was built under R version 4.0.1”\n",
      "Warning message:\n",
      "“package ‘tibble’ was built under R version 4.0.2”\n",
      "Warning message:\n",
      "“package ‘tidyr’ was built under R version 4.0.2”\n",
      "Warning message:\n",
      "“package ‘dplyr’ was built under R version 4.0.2”\n",
      "── \u001b[1mConflicts\u001b[22m ────────────────────────────────────────── tidyverse_conflicts() ──\n",
      "\u001b[31m✖\u001b[39m \u001b[34mdplyr\u001b[39m::\u001b[32mfilter()\u001b[39m masks \u001b[34mstats\u001b[39m::filter()\n",
      "\u001b[31m✖\u001b[39m \u001b[34mdplyr\u001b[39m::\u001b[32mlag()\u001b[39m    masks \u001b[34mstats\u001b[39m::lag()\n",
      "\n",
      "Warning message:\n",
      "“package ‘tidymodels’ was built under R version 4.0.2”\n",
      "── \u001b[1mAttaching packages\u001b[22m ────────────────────────────────────── tidymodels 0.1.1 ──\n",
      "\n",
      "\u001b[32m✔\u001b[39m \u001b[34mbroom    \u001b[39m 0.7.0      \u001b[32m✔\u001b[39m \u001b[34mrecipes  \u001b[39m 0.1.13\n",
      "\u001b[32m✔\u001b[39m \u001b[34mdials    \u001b[39m 0.0.9      \u001b[32m✔\u001b[39m \u001b[34mrsample  \u001b[39m 0.0.7 \n",
      "\u001b[32m✔\u001b[39m \u001b[34minfer    \u001b[39m 0.5.4      \u001b[32m✔\u001b[39m \u001b[34mtune     \u001b[39m 0.1.1 \n",
      "\u001b[32m✔\u001b[39m \u001b[34mmodeldata\u001b[39m 0.0.2      \u001b[32m✔\u001b[39m \u001b[34mworkflows\u001b[39m 0.2.0 \n",
      "\u001b[32m✔\u001b[39m \u001b[34mparsnip  \u001b[39m 0.1.3      \u001b[32m✔\u001b[39m \u001b[34myardstick\u001b[39m 0.0.7 \n",
      "\n",
      "Warning message:\n",
      "“package ‘broom’ was built under R version 4.0.2”\n",
      "Warning message:\n",
      "“package ‘dials’ was built under R version 4.0.2”\n",
      "Warning message:\n",
      "“package ‘infer’ was built under R version 4.0.3”\n",
      "Warning message:\n",
      "“package ‘modeldata’ was built under R version 4.0.1”\n",
      "Warning message:\n",
      "“package ‘parsnip’ was built under R version 4.0.2”\n",
      "Warning message:\n",
      "“package ‘recipes’ was built under R version 4.0.1”\n",
      "Warning message:\n",
      "“package ‘tune’ was built under R version 4.0.2”\n",
      "Warning message:\n",
      "“package ‘workflows’ was built under R version 4.0.2”\n",
      "Warning message:\n",
      "“package ‘yardstick’ was built under R version 4.0.2”\n",
      "── \u001b[1mConflicts\u001b[22m ───────────────────────────────────────── tidymodels_conflicts() ──\n",
      "\u001b[31m✖\u001b[39m \u001b[34mscales\u001b[39m::\u001b[32mdiscard()\u001b[39m masks \u001b[34mpurrr\u001b[39m::discard()\n",
      "\u001b[31m✖\u001b[39m \u001b[34mdplyr\u001b[39m::\u001b[32mfilter()\u001b[39m   masks \u001b[34mstats\u001b[39m::filter()\n",
      "\u001b[31m✖\u001b[39m \u001b[34mrecipes\u001b[39m::\u001b[32mfixed()\u001b[39m  masks \u001b[34mstringr\u001b[39m::fixed()\n",
      "\u001b[31m✖\u001b[39m \u001b[34mdplyr\u001b[39m::\u001b[32mlag()\u001b[39m      masks \u001b[34mstats\u001b[39m::lag()\n",
      "\u001b[31m✖\u001b[39m \u001b[34myardstick\u001b[39m::\u001b[32mspec()\u001b[39m masks \u001b[34mreadr\u001b[39m::spec()\n",
      "\u001b[31m✖\u001b[39m \u001b[34mrecipes\u001b[39m::\u001b[32mstep()\u001b[39m   masks \u001b[34mstats\u001b[39m::step()\n",
      "\n"
     ]
    }
   ],
   "source": [
    "# importing libraries\n",
    "library(tidyverse)\n",
    "library(tidymodels)\n",
    "library(repr)\n",
    "library(RColorBrewer)"
   ]
  },
  {
   "cell_type": "markdown",
   "metadata": {},
   "source": [
    "#### Importing the dataframe\n",
    "\n",
    "We used `read_csv` to import the processed.cleveland.data dataframe from the online directory."
   ]
  },
  {
   "cell_type": "code",
   "execution_count": 5,
   "metadata": {},
   "outputs": [
    {
     "name": "stderr",
     "output_type": "stream",
     "text": [
      "Parsed with column specification:\n",
      "cols(\n",
      "  X1 = \u001b[32mcol_double()\u001b[39m,\n",
      "  X2 = \u001b[32mcol_double()\u001b[39m,\n",
      "  X3 = \u001b[32mcol_double()\u001b[39m,\n",
      "  X4 = \u001b[32mcol_double()\u001b[39m,\n",
      "  X5 = \u001b[32mcol_double()\u001b[39m,\n",
      "  X6 = \u001b[32mcol_double()\u001b[39m,\n",
      "  X7 = \u001b[32mcol_double()\u001b[39m,\n",
      "  X8 = \u001b[32mcol_double()\u001b[39m,\n",
      "  X9 = \u001b[32mcol_double()\u001b[39m,\n",
      "  X10 = \u001b[32mcol_double()\u001b[39m,\n",
      "  X11 = \u001b[32mcol_double()\u001b[39m,\n",
      "  X12 = \u001b[31mcol_character()\u001b[39m,\n",
      "  X13 = \u001b[31mcol_character()\u001b[39m,\n",
      "  X14 = \u001b[32mcol_double()\u001b[39m\n",
      ")\n",
      "\n"
     ]
    },
    {
     "data": {
      "text/html": [
       "<table>\n",
       "<caption>A tibble: 6 × 14</caption>\n",
       "<thead>\n",
       "\t<tr><th scope=col>X1</th><th scope=col>X2</th><th scope=col>X3</th><th scope=col>X4</th><th scope=col>X5</th><th scope=col>X6</th><th scope=col>X7</th><th scope=col>X8</th><th scope=col>X9</th><th scope=col>X10</th><th scope=col>X11</th><th scope=col>X12</th><th scope=col>X13</th><th scope=col>X14</th></tr>\n",
       "\t<tr><th scope=col>&lt;dbl&gt;</th><th scope=col>&lt;dbl&gt;</th><th scope=col>&lt;dbl&gt;</th><th scope=col>&lt;dbl&gt;</th><th scope=col>&lt;dbl&gt;</th><th scope=col>&lt;dbl&gt;</th><th scope=col>&lt;dbl&gt;</th><th scope=col>&lt;dbl&gt;</th><th scope=col>&lt;dbl&gt;</th><th scope=col>&lt;dbl&gt;</th><th scope=col>&lt;dbl&gt;</th><th scope=col>&lt;chr&gt;</th><th scope=col>&lt;chr&gt;</th><th scope=col>&lt;dbl&gt;</th></tr>\n",
       "</thead>\n",
       "<tbody>\n",
       "\t<tr><td>63</td><td>1</td><td>1</td><td>145</td><td>233</td><td>1</td><td>2</td><td>150</td><td>0</td><td>2.3</td><td>3</td><td>0.0</td><td>6.0</td><td>0</td></tr>\n",
       "\t<tr><td>67</td><td>1</td><td>4</td><td>160</td><td>286</td><td>0</td><td>2</td><td>108</td><td>1</td><td>1.5</td><td>2</td><td>3.0</td><td>3.0</td><td>2</td></tr>\n",
       "\t<tr><td>67</td><td>1</td><td>4</td><td>120</td><td>229</td><td>0</td><td>2</td><td>129</td><td>1</td><td>2.6</td><td>2</td><td>2.0</td><td>7.0</td><td>1</td></tr>\n",
       "\t<tr><td>37</td><td>1</td><td>3</td><td>130</td><td>250</td><td>0</td><td>0</td><td>187</td><td>0</td><td>3.5</td><td>3</td><td>0.0</td><td>3.0</td><td>0</td></tr>\n",
       "\t<tr><td>41</td><td>0</td><td>2</td><td>130</td><td>204</td><td>0</td><td>2</td><td>172</td><td>0</td><td>1.4</td><td>1</td><td>0.0</td><td>3.0</td><td>0</td></tr>\n",
       "\t<tr><td>56</td><td>1</td><td>2</td><td>120</td><td>236</td><td>0</td><td>0</td><td>178</td><td>0</td><td>0.8</td><td>1</td><td>0.0</td><td>3.0</td><td>0</td></tr>\n",
       "</tbody>\n",
       "</table>\n"
      ],
      "text/latex": [
       "A tibble: 6 × 14\n",
       "\\begin{tabular}{llllllllllllll}\n",
       " X1 & X2 & X3 & X4 & X5 & X6 & X7 & X8 & X9 & X10 & X11 & X12 & X13 & X14\\\\\n",
       " <dbl> & <dbl> & <dbl> & <dbl> & <dbl> & <dbl> & <dbl> & <dbl> & <dbl> & <dbl> & <dbl> & <chr> & <chr> & <dbl>\\\\\n",
       "\\hline\n",
       "\t 63 & 1 & 1 & 145 & 233 & 1 & 2 & 150 & 0 & 2.3 & 3 & 0.0 & 6.0 & 0\\\\\n",
       "\t 67 & 1 & 4 & 160 & 286 & 0 & 2 & 108 & 1 & 1.5 & 2 & 3.0 & 3.0 & 2\\\\\n",
       "\t 67 & 1 & 4 & 120 & 229 & 0 & 2 & 129 & 1 & 2.6 & 2 & 2.0 & 7.0 & 1\\\\\n",
       "\t 37 & 1 & 3 & 130 & 250 & 0 & 0 & 187 & 0 & 3.5 & 3 & 0.0 & 3.0 & 0\\\\\n",
       "\t 41 & 0 & 2 & 130 & 204 & 0 & 2 & 172 & 0 & 1.4 & 1 & 0.0 & 3.0 & 0\\\\\n",
       "\t 56 & 1 & 2 & 120 & 236 & 0 & 0 & 178 & 0 & 0.8 & 1 & 0.0 & 3.0 & 0\\\\\n",
       "\\end{tabular}\n"
      ],
      "text/markdown": [
       "\n",
       "A tibble: 6 × 14\n",
       "\n",
       "| X1 &lt;dbl&gt; | X2 &lt;dbl&gt; | X3 &lt;dbl&gt; | X4 &lt;dbl&gt; | X5 &lt;dbl&gt; | X6 &lt;dbl&gt; | X7 &lt;dbl&gt; | X8 &lt;dbl&gt; | X9 &lt;dbl&gt; | X10 &lt;dbl&gt; | X11 &lt;dbl&gt; | X12 &lt;chr&gt; | X13 &lt;chr&gt; | X14 &lt;dbl&gt; |\n",
       "|---|---|---|---|---|---|---|---|---|---|---|---|---|---|\n",
       "| 63 | 1 | 1 | 145 | 233 | 1 | 2 | 150 | 0 | 2.3 | 3 | 0.0 | 6.0 | 0 |\n",
       "| 67 | 1 | 4 | 160 | 286 | 0 | 2 | 108 | 1 | 1.5 | 2 | 3.0 | 3.0 | 2 |\n",
       "| 67 | 1 | 4 | 120 | 229 | 0 | 2 | 129 | 1 | 2.6 | 2 | 2.0 | 7.0 | 1 |\n",
       "| 37 | 1 | 3 | 130 | 250 | 0 | 0 | 187 | 0 | 3.5 | 3 | 0.0 | 3.0 | 0 |\n",
       "| 41 | 0 | 2 | 130 | 204 | 0 | 2 | 172 | 0 | 1.4 | 1 | 0.0 | 3.0 | 0 |\n",
       "| 56 | 1 | 2 | 120 | 236 | 0 | 0 | 178 | 0 | 0.8 | 1 | 0.0 | 3.0 | 0 |\n",
       "\n"
      ],
      "text/plain": [
       "  X1 X2 X3 X4  X5  X6 X7 X8  X9 X10 X11 X12 X13 X14\n",
       "1 63 1  1  145 233 1  2  150 0  2.3 3   0.0 6.0 0  \n",
       "2 67 1  4  160 286 0  2  108 1  1.5 2   3.0 3.0 2  \n",
       "3 67 1  4  120 229 0  2  129 1  2.6 2   2.0 7.0 1  \n",
       "4 37 1  3  130 250 0  0  187 0  3.5 3   0.0 3.0 0  \n",
       "5 41 0  2  130 204 0  2  172 0  1.4 1   0.0 3.0 0  \n",
       "6 56 1  2  120 236 0  0  178 0  0.8 1   0.0 3.0 0  "
      ]
     },
     "metadata": {},
     "output_type": "display_data"
    }
   ],
   "source": [
    "cleveland_data <- read_csv(\"https://archive.ics.uci.edu/ml/machine-learning-databases/heart-disease/processed.cleveland.data\",\n",
    "                          col_names = FALSE)\n",
    "\n",
    "head(cleveland_data)"
   ]
  },
  {
   "cell_type": "markdown",
   "metadata": {},
   "source": [
    "As you can see above, the dataframe does not come with column names, so those must be added. Some factor columns are also being read as `<dbl>` or `<chr>`, so those need to be changed as well."
   ]
  },
  {
   "cell_type": "markdown",
   "metadata": {},
   "source": [
    "#### Cleaning and tidying the data\n",
    "\n",
    "The reason some columns are being read as \\<chr> is because they include \"?\" for unknown values, so we will change those to NA so they can be changed to the types we need.\n",
    "\n",
    "For this data to be used for a classifier, we need to have a true/false column based on **num**, which we will call **diag**."
   ]
  },
  {
   "cell_type": "code",
   "execution_count": 6,
   "metadata": {},
   "outputs": [
    {
     "name": "stderr",
     "output_type": "stream",
     "text": [
      "Warning message:\n",
      "“Problem with `mutate()` input `thal`.\n",
      "\u001b[34mℹ\u001b[39m NAs introduced by coercion\n",
      "\u001b[34mℹ\u001b[39m Input `thal` is `as.factor(as.integer(thal))`.”\n",
      "Warning message in is.factor(x):\n",
      "“NAs introduced by coercion”\n",
      "Warning message:\n",
      "“Problem with `mutate()` input `ca`.\n",
      "\u001b[34mℹ\u001b[39m NAs introduced by coercion\n",
      "\u001b[34mℹ\u001b[39m Input `ca` is `as.factor(as.integer(ca))`.”\n",
      "Warning message in is.factor(x):\n",
      "“NAs introduced by coercion”\n"
     ]
    },
    {
     "data": {
      "text/html": [
       "<table>\n",
       "<caption>A tibble: 6 × 15</caption>\n",
       "<thead>\n",
       "\t<tr><th scope=col>age</th><th scope=col>sex</th><th scope=col>cp</th><th scope=col>trestbps</th><th scope=col>chol</th><th scope=col>fbs</th><th scope=col>restecg</th><th scope=col>thalach</th><th scope=col>exang</th><th scope=col>oldpeak</th><th scope=col>slope</th><th scope=col>ca</th><th scope=col>thal</th><th scope=col>num</th><th scope=col>diag</th></tr>\n",
       "\t<tr><th scope=col>&lt;dbl&gt;</th><th scope=col>&lt;fct&gt;</th><th scope=col>&lt;fct&gt;</th><th scope=col>&lt;dbl&gt;</th><th scope=col>&lt;dbl&gt;</th><th scope=col>&lt;fct&gt;</th><th scope=col>&lt;fct&gt;</th><th scope=col>&lt;dbl&gt;</th><th scope=col>&lt;fct&gt;</th><th scope=col>&lt;dbl&gt;</th><th scope=col>&lt;fct&gt;</th><th scope=col>&lt;fct&gt;</th><th scope=col>&lt;fct&gt;</th><th scope=col>&lt;fct&gt;</th><th scope=col>&lt;fct&gt;</th></tr>\n",
       "</thead>\n",
       "<tbody>\n",
       "\t<tr><td>63</td><td>1</td><td>1</td><td>145</td><td>233</td><td>1</td><td>2</td><td>150</td><td>0</td><td>2.3</td><td>3</td><td>0</td><td>6</td><td>0</td><td>FALSE</td></tr>\n",
       "\t<tr><td>67</td><td>1</td><td>4</td><td>160</td><td>286</td><td>0</td><td>2</td><td>108</td><td>1</td><td>1.5</td><td>2</td><td>3</td><td>3</td><td>2</td><td>TRUE </td></tr>\n",
       "\t<tr><td>67</td><td>1</td><td>4</td><td>120</td><td>229</td><td>0</td><td>2</td><td>129</td><td>1</td><td>2.6</td><td>2</td><td>2</td><td>7</td><td>1</td><td>TRUE </td></tr>\n",
       "\t<tr><td>37</td><td>1</td><td>3</td><td>130</td><td>250</td><td>0</td><td>0</td><td>187</td><td>0</td><td>3.5</td><td>3</td><td>0</td><td>3</td><td>0</td><td>FALSE</td></tr>\n",
       "\t<tr><td>41</td><td>0</td><td>2</td><td>130</td><td>204</td><td>0</td><td>2</td><td>172</td><td>0</td><td>1.4</td><td>1</td><td>0</td><td>3</td><td>0</td><td>FALSE</td></tr>\n",
       "\t<tr><td>56</td><td>1</td><td>2</td><td>120</td><td>236</td><td>0</td><td>0</td><td>178</td><td>0</td><td>0.8</td><td>1</td><td>0</td><td>3</td><td>0</td><td>FALSE</td></tr>\n",
       "</tbody>\n",
       "</table>\n"
      ],
      "text/latex": [
       "A tibble: 6 × 15\n",
       "\\begin{tabular}{lllllllllllllll}\n",
       " age & sex & cp & trestbps & chol & fbs & restecg & thalach & exang & oldpeak & slope & ca & thal & num & diag\\\\\n",
       " <dbl> & <fct> & <fct> & <dbl> & <dbl> & <fct> & <fct> & <dbl> & <fct> & <dbl> & <fct> & <fct> & <fct> & <fct> & <fct>\\\\\n",
       "\\hline\n",
       "\t 63 & 1 & 1 & 145 & 233 & 1 & 2 & 150 & 0 & 2.3 & 3 & 0 & 6 & 0 & FALSE\\\\\n",
       "\t 67 & 1 & 4 & 160 & 286 & 0 & 2 & 108 & 1 & 1.5 & 2 & 3 & 3 & 2 & TRUE \\\\\n",
       "\t 67 & 1 & 4 & 120 & 229 & 0 & 2 & 129 & 1 & 2.6 & 2 & 2 & 7 & 1 & TRUE \\\\\n",
       "\t 37 & 1 & 3 & 130 & 250 & 0 & 0 & 187 & 0 & 3.5 & 3 & 0 & 3 & 0 & FALSE\\\\\n",
       "\t 41 & 0 & 2 & 130 & 204 & 0 & 2 & 172 & 0 & 1.4 & 1 & 0 & 3 & 0 & FALSE\\\\\n",
       "\t 56 & 1 & 2 & 120 & 236 & 0 & 0 & 178 & 0 & 0.8 & 1 & 0 & 3 & 0 & FALSE\\\\\n",
       "\\end{tabular}\n"
      ],
      "text/markdown": [
       "\n",
       "A tibble: 6 × 15\n",
       "\n",
       "| age &lt;dbl&gt; | sex &lt;fct&gt; | cp &lt;fct&gt; | trestbps &lt;dbl&gt; | chol &lt;dbl&gt; | fbs &lt;fct&gt; | restecg &lt;fct&gt; | thalach &lt;dbl&gt; | exang &lt;fct&gt; | oldpeak &lt;dbl&gt; | slope &lt;fct&gt; | ca &lt;fct&gt; | thal &lt;fct&gt; | num &lt;fct&gt; | diag &lt;fct&gt; |\n",
       "|---|---|---|---|---|---|---|---|---|---|---|---|---|---|---|\n",
       "| 63 | 1 | 1 | 145 | 233 | 1 | 2 | 150 | 0 | 2.3 | 3 | 0 | 6 | 0 | FALSE |\n",
       "| 67 | 1 | 4 | 160 | 286 | 0 | 2 | 108 | 1 | 1.5 | 2 | 3 | 3 | 2 | TRUE  |\n",
       "| 67 | 1 | 4 | 120 | 229 | 0 | 2 | 129 | 1 | 2.6 | 2 | 2 | 7 | 1 | TRUE  |\n",
       "| 37 | 1 | 3 | 130 | 250 | 0 | 0 | 187 | 0 | 3.5 | 3 | 0 | 3 | 0 | FALSE |\n",
       "| 41 | 0 | 2 | 130 | 204 | 0 | 2 | 172 | 0 | 1.4 | 1 | 0 | 3 | 0 | FALSE |\n",
       "| 56 | 1 | 2 | 120 | 236 | 0 | 0 | 178 | 0 | 0.8 | 1 | 0 | 3 | 0 | FALSE |\n",
       "\n"
      ],
      "text/plain": [
       "  age sex cp trestbps chol fbs restecg thalach exang oldpeak slope ca thal num\n",
       "1 63  1   1  145      233  1   2       150     0     2.3     3     0  6    0  \n",
       "2 67  1   4  160      286  0   2       108     1     1.5     2     3  3    2  \n",
       "3 67  1   4  120      229  0   2       129     1     2.6     2     2  7    1  \n",
       "4 37  1   3  130      250  0   0       187     0     3.5     3     0  3    0  \n",
       "5 41  0   2  130      204  0   2       172     0     1.4     1     0  3    0  \n",
       "6 56  1   2  120      236  0   0       178     0     0.8     1     0  3    0  \n",
       "  diag \n",
       "1 FALSE\n",
       "2 TRUE \n",
       "3 TRUE \n",
       "4 FALSE\n",
       "5 FALSE\n",
       "6 FALSE"
      ]
     },
     "metadata": {},
     "output_type": "display_data"
    }
   ],
   "source": [
    "set.seed(1)\n",
    "# assigning col names\n",
    "cleveland_clean <- cleveland_data\n",
    "\n",
    "colnames(cleveland_clean) <- c(\"age\", \"sex\", \"cp\", \"trestbps\", \"chol\", \"fbs\", \"restecg\", \n",
    "                               \"thalach\", \"exang\", \"oldpeak\", \"slope\", \"ca\", \"thal\", \"num\")\n",
    "                           \n",
    "# changing \"?\" into NA\n",
    "cleveland_data[ cleveland_data == \"?\" ] <- NA\n",
    "\n",
    "# adding diag column, setting col types\n",
    "# as.integer is being used to get rid of decimal points when switching to factor\n",
    "cleveland_clean <- cleveland_clean %>%\n",
    "                    mutate(diag = as.factor(ifelse(is.na(num), NA, (num > 0)))) %>%\n",
    "                    mutate(sex = as.factor(as.integer(sex)), cp = as.factor(as.integer(cp)), \n",
    "                           fbs = as.factor(as.integer(fbs)), restecg = as.factor(as.integer(restecg)),\n",
    "                           exang = as.factor(as.integer(exang)), thal = as.factor(as.integer(thal)),\n",
    "                           ca = as.factor(as.integer(ca)), slope = as.factor(as.integer(slope))) %>%\n",
    "                    mutate(num = as_factor(num))\n",
    "\n",
    "head(cleveland_clean)\n"
   ]
  },
  {
   "cell_type": "markdown",
   "metadata": {},
   "source": [
    "Now our table is clean and tidy!\n",
    "\n",
    "Since `num` uses integers to distinguish presence (1,2,3,4) from absence (0), and we want to determine *whether or not* a patient has heart disease, a new boolean column `diag` has been appended to narrow diagnoses down to TRUE or FALSE. To stratify by it, we made it a factor column."
   ]
  },
  {
   "cell_type": "markdown",
   "metadata": {},
   "source": [
    "#### Splitting our data into training and testing sets\n",
    "\n",
    "Before working on our model, we need to split our data into training and testing sets. Since we want to predict the new column `diag`, we will be stratifying by it.\n",
    "\n",
    "We will use `initial_split` to split our dataframe into 75% training and 25% testing, since it shuffles our data for us and ensures an equal proportion of each class is present in both. The 75-25 split allows us to train our model on as many data points as possible while also keeping enough data for effective testing later."
   ]
  },
  {
   "cell_type": "code",
   "execution_count": 7,
   "metadata": {},
   "outputs": [
    {
     "data": {
      "text/html": [
       "<table>\n",
       "<caption>A tibble: 6 × 15</caption>\n",
       "<thead>\n",
       "\t<tr><th scope=col>age</th><th scope=col>sex</th><th scope=col>cp</th><th scope=col>trestbps</th><th scope=col>chol</th><th scope=col>fbs</th><th scope=col>restecg</th><th scope=col>thalach</th><th scope=col>exang</th><th scope=col>oldpeak</th><th scope=col>slope</th><th scope=col>ca</th><th scope=col>thal</th><th scope=col>num</th><th scope=col>diag</th></tr>\n",
       "\t<tr><th scope=col>&lt;dbl&gt;</th><th scope=col>&lt;fct&gt;</th><th scope=col>&lt;fct&gt;</th><th scope=col>&lt;dbl&gt;</th><th scope=col>&lt;dbl&gt;</th><th scope=col>&lt;fct&gt;</th><th scope=col>&lt;fct&gt;</th><th scope=col>&lt;dbl&gt;</th><th scope=col>&lt;fct&gt;</th><th scope=col>&lt;dbl&gt;</th><th scope=col>&lt;fct&gt;</th><th scope=col>&lt;fct&gt;</th><th scope=col>&lt;fct&gt;</th><th scope=col>&lt;fct&gt;</th><th scope=col>&lt;fct&gt;</th></tr>\n",
       "</thead>\n",
       "<tbody>\n",
       "\t<tr><td>63</td><td>1</td><td>1</td><td>145</td><td>233</td><td>1</td><td>2</td><td>150</td><td>0</td><td>2.3</td><td>3</td><td>0</td><td>6</td><td>0</td><td>FALSE</td></tr>\n",
       "\t<tr><td>67</td><td>1</td><td>4</td><td>160</td><td>286</td><td>0</td><td>2</td><td>108</td><td>1</td><td>1.5</td><td>2</td><td>3</td><td>3</td><td>2</td><td>TRUE </td></tr>\n",
       "\t<tr><td>67</td><td>1</td><td>4</td><td>120</td><td>229</td><td>0</td><td>2</td><td>129</td><td>1</td><td>2.6</td><td>2</td><td>2</td><td>7</td><td>1</td><td>TRUE </td></tr>\n",
       "\t<tr><td>37</td><td>1</td><td>3</td><td>130</td><td>250</td><td>0</td><td>0</td><td>187</td><td>0</td><td>3.5</td><td>3</td><td>0</td><td>3</td><td>0</td><td>FALSE</td></tr>\n",
       "\t<tr><td>41</td><td>0</td><td>2</td><td>130</td><td>204</td><td>0</td><td>2</td><td>172</td><td>0</td><td>1.4</td><td>1</td><td>0</td><td>3</td><td>0</td><td>FALSE</td></tr>\n",
       "\t<tr><td>56</td><td>1</td><td>2</td><td>120</td><td>236</td><td>0</td><td>0</td><td>178</td><td>0</td><td>0.8</td><td>1</td><td>0</td><td>3</td><td>0</td><td>FALSE</td></tr>\n",
       "</tbody>\n",
       "</table>\n"
      ],
      "text/latex": [
       "A tibble: 6 × 15\n",
       "\\begin{tabular}{lllllllllllllll}\n",
       " age & sex & cp & trestbps & chol & fbs & restecg & thalach & exang & oldpeak & slope & ca & thal & num & diag\\\\\n",
       " <dbl> & <fct> & <fct> & <dbl> & <dbl> & <fct> & <fct> & <dbl> & <fct> & <dbl> & <fct> & <fct> & <fct> & <fct> & <fct>\\\\\n",
       "\\hline\n",
       "\t 63 & 1 & 1 & 145 & 233 & 1 & 2 & 150 & 0 & 2.3 & 3 & 0 & 6 & 0 & FALSE\\\\\n",
       "\t 67 & 1 & 4 & 160 & 286 & 0 & 2 & 108 & 1 & 1.5 & 2 & 3 & 3 & 2 & TRUE \\\\\n",
       "\t 67 & 1 & 4 & 120 & 229 & 0 & 2 & 129 & 1 & 2.6 & 2 & 2 & 7 & 1 & TRUE \\\\\n",
       "\t 37 & 1 & 3 & 130 & 250 & 0 & 0 & 187 & 0 & 3.5 & 3 & 0 & 3 & 0 & FALSE\\\\\n",
       "\t 41 & 0 & 2 & 130 & 204 & 0 & 2 & 172 & 0 & 1.4 & 1 & 0 & 3 & 0 & FALSE\\\\\n",
       "\t 56 & 1 & 2 & 120 & 236 & 0 & 0 & 178 & 0 & 0.8 & 1 & 0 & 3 & 0 & FALSE\\\\\n",
       "\\end{tabular}\n"
      ],
      "text/markdown": [
       "\n",
       "A tibble: 6 × 15\n",
       "\n",
       "| age &lt;dbl&gt; | sex &lt;fct&gt; | cp &lt;fct&gt; | trestbps &lt;dbl&gt; | chol &lt;dbl&gt; | fbs &lt;fct&gt; | restecg &lt;fct&gt; | thalach &lt;dbl&gt; | exang &lt;fct&gt; | oldpeak &lt;dbl&gt; | slope &lt;fct&gt; | ca &lt;fct&gt; | thal &lt;fct&gt; | num &lt;fct&gt; | diag &lt;fct&gt; |\n",
       "|---|---|---|---|---|---|---|---|---|---|---|---|---|---|---|\n",
       "| 63 | 1 | 1 | 145 | 233 | 1 | 2 | 150 | 0 | 2.3 | 3 | 0 | 6 | 0 | FALSE |\n",
       "| 67 | 1 | 4 | 160 | 286 | 0 | 2 | 108 | 1 | 1.5 | 2 | 3 | 3 | 2 | TRUE  |\n",
       "| 67 | 1 | 4 | 120 | 229 | 0 | 2 | 129 | 1 | 2.6 | 2 | 2 | 7 | 1 | TRUE  |\n",
       "| 37 | 1 | 3 | 130 | 250 | 0 | 0 | 187 | 0 | 3.5 | 3 | 0 | 3 | 0 | FALSE |\n",
       "| 41 | 0 | 2 | 130 | 204 | 0 | 2 | 172 | 0 | 1.4 | 1 | 0 | 3 | 0 | FALSE |\n",
       "| 56 | 1 | 2 | 120 | 236 | 0 | 0 | 178 | 0 | 0.8 | 1 | 0 | 3 | 0 | FALSE |\n",
       "\n"
      ],
      "text/plain": [
       "  age sex cp trestbps chol fbs restecg thalach exang oldpeak slope ca thal num\n",
       "1 63  1   1  145      233  1   2       150     0     2.3     3     0  6    0  \n",
       "2 67  1   4  160      286  0   2       108     1     1.5     2     3  3    2  \n",
       "3 67  1   4  120      229  0   2       129     1     2.6     2     2  7    1  \n",
       "4 37  1   3  130      250  0   0       187     0     3.5     3     0  3    0  \n",
       "5 41  0   2  130      204  0   2       172     0     1.4     1     0  3    0  \n",
       "6 56  1   2  120      236  0   0       178     0     0.8     1     0  3    0  \n",
       "  diag \n",
       "1 FALSE\n",
       "2 TRUE \n",
       "3 TRUE \n",
       "4 FALSE\n",
       "5 FALSE\n",
       "6 FALSE"
      ]
     },
     "metadata": {},
     "output_type": "display_data"
    }
   ],
   "source": [
    "#splitting dataframe into training, testing datasets\n",
    "cleveland_split <- initial_split(cleveland_clean, prop = 3/4, strata = num)\n",
    "\n",
    "cleveland_training <- training(cleveland_split)\n",
    "cleveland_testing <- testing(cleveland_split)\n",
    "\n",
    "head(cleveland_training)"
   ]
  },
  {
   "cell_type": "markdown",
   "metadata": {},
   "source": [
    "In the above code, we split the data into a training set to build our model on, and a testing set to, *well*, test it. Using `initial_split` allowed us to shuffle the data before splitting (removing bias and order) and stratify the data by `diag` so that an equal proportion of it in each set.\n",
    "\n",
    "Moving forward, we will only use the training set until the very end."
   ]
  },
  {
   "cell_type": "markdown",
   "metadata": {},
   "source": [
    "#### Summarizing the data\n",
    "\n",
    "Before we get to work, we need to make sure that the two classes actually have different averages in age, serum cholersterol and maximum heart rate achieved.\n",
    "\n",
    "To do this, we will use `group_by` and `summarize` to create a table with the minimum, maximum and mean of each of our predictors."
   ]
  },
  {
   "cell_type": "code",
   "execution_count": 8,
   "metadata": {},
   "outputs": [
    {
     "name": "stderr",
     "output_type": "stream",
     "text": [
      "`summarise()` ungrouping output (override with `.groups` argument)\n",
      "\n"
     ]
    },
    {
     "data": {
      "text/html": [
       "<table>\n",
       "<caption>A tibble: 2 × 8</caption>\n",
       "<thead>\n",
       "\t<tr><th scope=col>diag</th><th scope=col>min_chol</th><th scope=col>max_chol</th><th scope=col>mean_chol</th><th scope=col>min_thalach</th><th scope=col>max_thalach</th><th scope=col>mean_thalach</th><th scope=col>n_of_patients</th></tr>\n",
       "\t<tr><th scope=col>&lt;fct&gt;</th><th scope=col>&lt;dbl&gt;</th><th scope=col>&lt;dbl&gt;</th><th scope=col>&lt;dbl&gt;</th><th scope=col>&lt;dbl&gt;</th><th scope=col>&lt;dbl&gt;</th><th scope=col>&lt;dbl&gt;</th><th scope=col>&lt;int&gt;</th></tr>\n",
       "</thead>\n",
       "<tbody>\n",
       "\t<tr><td>FALSE</td><td>141</td><td>417</td><td>241.2439</td><td>96</td><td>202</td><td>157.6179</td><td>123</td></tr>\n",
       "\t<tr><td>TRUE </td><td>131</td><td>353</td><td>252.6857</td><td>90</td><td>182</td><td>139.4095</td><td>105</td></tr>\n",
       "</tbody>\n",
       "</table>\n"
      ],
      "text/latex": [
       "A tibble: 2 × 8\n",
       "\\begin{tabular}{llllllll}\n",
       " diag & min\\_chol & max\\_chol & mean\\_chol & min\\_thalach & max\\_thalach & mean\\_thalach & n\\_of\\_patients\\\\\n",
       " <fct> & <dbl> & <dbl> & <dbl> & <dbl> & <dbl> & <dbl> & <int>\\\\\n",
       "\\hline\n",
       "\t FALSE & 141 & 417 & 241.2439 & 96 & 202 & 157.6179 & 123\\\\\n",
       "\t TRUE  & 131 & 353 & 252.6857 & 90 & 182 & 139.4095 & 105\\\\\n",
       "\\end{tabular}\n"
      ],
      "text/markdown": [
       "\n",
       "A tibble: 2 × 8\n",
       "\n",
       "| diag &lt;fct&gt; | min_chol &lt;dbl&gt; | max_chol &lt;dbl&gt; | mean_chol &lt;dbl&gt; | min_thalach &lt;dbl&gt; | max_thalach &lt;dbl&gt; | mean_thalach &lt;dbl&gt; | n_of_patients &lt;int&gt; |\n",
       "|---|---|---|---|---|---|---|---|\n",
       "| FALSE | 141 | 417 | 241.2439 | 96 | 202 | 157.6179 | 123 |\n",
       "| TRUE  | 131 | 353 | 252.6857 | 90 | 182 | 139.4095 | 105 |\n",
       "\n"
      ],
      "text/plain": [
       "  diag  min_chol max_chol mean_chol min_thalach max_thalach mean_thalach\n",
       "1 FALSE 141      417      241.2439  96          202         157.6179    \n",
       "2 TRUE  131      353      252.6857  90          182         139.4095    \n",
       "  n_of_patients\n",
       "1 123          \n",
       "2 105          "
      ]
     },
     "metadata": {},
     "output_type": "display_data"
    }
   ],
   "source": [
    "#summarizing to get min, max, mean of each predictor + total no. of rows per class\n",
    "cleveland_summary <- cleveland_training %>%\n",
    "                    group_by(diag) %>%\n",
    "                    summarize(min_chol = min(chol), max_chol = max(chol), mean_chol = mean(chol), \n",
    "                              min_thalach = min(thalach), max_thalach = max(thalach), mean_thalach = mean(thalach),\n",
    "                              n_of_patients = n())\n",
    "\n",
    "cleveland_summary"
   ]
  },
  {
   "cell_type": "markdown",
   "metadata": {},
   "source": [
    "To summarize our data, we grouped by `diag` then summarized for the minimum, maximum and mean of `chol` and `thalach`.\n",
    "\n",
    "We can see that patients with heart disease tend to have higher cholesterol and lower maximum heart rates."
   ]
  },
  {
   "cell_type": "markdown",
   "metadata": {},
   "source": [
    "#### Visualizing the realtionship between predictors and class\n",
    "\n",
    "To visualize the relationship that cholesterol and maximum heart rate achieved have with a patient's diagnosis, we will use `ggplot` to generate a scatter plot of `chol` vs `thalach`, coloring for `diag` "
   ]
  },
  {
   "cell_type": "code",
   "execution_count": 9,
   "metadata": {},
   "outputs": [
    {
     "data": {
      "image/png": "[encoded data removed]",
      "text/plain": [
       "plot without title"
      ]
     },
     "metadata": {
      "image/png": {
       "height": 300,
       "width": 600
      }
     },
     "output_type": "display_data"
    }
   ],
   "source": [
    "#plotting the training data\n",
    "chol_thalach <- ggplot(cleveland_training, aes(x = thalach, y = chol, color = diag)) +\n",
    "                 geom_point() +\n",
    "                 labs(x = \"max heart rate reached\", y = \"cholesterol (mg/dl)\",\n",
    "                      color = \"diagnosis\", title = \"serum cholesterol vs maximum heart rate achieved\") +\n",
    "                 scale_color_brewer(palette = \"Dark2\") +\n",
    "                 theme(text = element_text(size = 15))\n",
    "\n",
    "\n",
    "chol_thalach"
   ]
  },
  {
   "cell_type": "markdown",
   "metadata": {},
   "source": [
    "This graph shows that patients with heart disease (orange) tend to have lower maximum heart rates and higher cholesterol, with patients without heart disease (teal) having higher maximum heart rates and a wider range of cholesterol levels."
   ]
  },
  {
   "cell_type": "markdown",
   "metadata": {},
   "source": [
    "### Methods\n",
    "##### Finding Best K Value\n",
    "\n",
    "Methods for finding the best K value: Our goal is to find the best value for the K-nearest neighbours, providing the highest accuracy and better predictions. We had already split the data into a training and testing set initially, so in the code below, we create a classifier and perform cross-validation to split the training data, train the model with one set and use the other to evaluate it because we can not use testing data.\n",
    "\n",
    "1) First, we use the recipe function, which preprocesses the data centered, scaled and balanced.\n",
    "\n",
    "2) Then we performed the cross-validation with ten folds using the vfold_cv function on the training data. We used ten folds because if we split the data once, the results strongly depend on the observations that ended up being in the validation set, so using more folds increases the accuracy.\n",
    "\n",
    "3) Then we created a k nearest model but replaced neighbours=tune instead of an actual value since we are trying to find the best k-nearest neighbours value.\n",
    "\n",
    "4) We add the recipe and model to a workflow using workflow().Tune_grid function runs cross validation on a range of k nearest neighbours values that is specified in gridvals\n",
    "\n",
    "5) Then we find the best K value by filtering for the accuracy and plotting a scatter plot with the accuracy estimate on the y axis and k nearest neighbour value on the x-axis.\n",
    "\n",
    "##### Building Our Classifier\n",
    "\n",
    "1) We made a new model specification for the best K value chosen, combined it with the recipe made earlier in a workflow, and retrained the classifier with “fit”.\n",
    "\n",
    "2) The predict function was used to evaluate the classifier’s prediction accuracy, using bind_cols to add a column of predictions to the test data.\n",
    "\n",
    "3) We collected statistics about the quality of our model using metrics, filtering for the .metric column for accuracy, for which we got 68%. This is much better than the 53% that the majority classifier had, demonstrating that the K-nearest neighbours classifier improved on the majority one.\n",
    "\n",
    "4) A confusion matrix was also made to get a sense of which classifications the classifier was accurate at giving.\n",
    "\n",
    "##### Visualizing Our Results\n",
    "\n",
    "5) To visualize our results, we plotted the predictions using the x axis for max heart rate, the y axis for cholesterol levels, and coloured by diagnosis. This allowed us to quickly identify trends in our predictors that our classifier used to create its predictions."
   ]
  },
  {
   "cell_type": "markdown",
   "metadata": {},
   "source": [
    "#### Creating the model\n",
    "\n",
    "To create our model, we need to follow four steps:\n",
    "\n",
    "1. create a recipe that uses `cleveland_training` to predict `diag`, with `chol` and `thalach` as predictors.\n",
    "2. create a specification that uses k-nearest neighbors, with `neighbors = tune()` to perform cross-validation.\n",
    "3. split the data into 10 equally sized chunks, known as folds, stratifying by `diag`.\n",
    "4. create a worflow combining the first 2 steps, with `tune_grid` instead of `fit`.\n",
    "5. repeat for each validation set for values of 1 ≤ $k$ ≤ 100\n",
    "\n",
    "To get the same folds each time, we need to set the seed to 1."
   ]
  },
  {
   "cell_type": "code",
   "execution_count": 10,
   "metadata": {},
   "outputs": [
    {
     "data": {
      "text/html": [
       "<table>\n",
       "<caption>A tibble: 6 × 2</caption>\n",
       "<thead>\n",
       "\t<tr><th scope=col>neighbors</th><th scope=col>mean</th></tr>\n",
       "\t<tr><th scope=col>&lt;int&gt;</th><th scope=col>&lt;dbl&gt;</th></tr>\n",
       "</thead>\n",
       "<tbody>\n",
       "\t<tr><td>73</td><td>0.7038702</td></tr>\n",
       "\t<tr><td>74</td><td>0.7038702</td></tr>\n",
       "\t<tr><td>83</td><td>0.6987813</td></tr>\n",
       "\t<tr><td>84</td><td>0.6987813</td></tr>\n",
       "\t<tr><td>57</td><td>0.6949769</td></tr>\n",
       "\t<tr><td>77</td><td>0.6947958</td></tr>\n",
       "</tbody>\n",
       "</table>\n"
      ],
      "text/latex": [
       "A tibble: 6 × 2\n",
       "\\begin{tabular}{ll}\n",
       " neighbors & mean\\\\\n",
       " <int> & <dbl>\\\\\n",
       "\\hline\n",
       "\t 73 & 0.7038702\\\\\n",
       "\t 74 & 0.7038702\\\\\n",
       "\t 83 & 0.6987813\\\\\n",
       "\t 84 & 0.6987813\\\\\n",
       "\t 57 & 0.6949769\\\\\n",
       "\t 77 & 0.6947958\\\\\n",
       "\\end{tabular}\n"
      ],
      "text/markdown": [
       "\n",
       "A tibble: 6 × 2\n",
       "\n",
       "| neighbors &lt;int&gt; | mean &lt;dbl&gt; |\n",
       "|---|---|\n",
       "| 73 | 0.7038702 |\n",
       "| 74 | 0.7038702 |\n",
       "| 83 | 0.6987813 |\n",
       "| 84 | 0.6987813 |\n",
       "| 57 | 0.6949769 |\n",
       "| 77 | 0.6947958 |\n",
       "\n"
      ],
      "text/plain": [
       "  neighbors mean     \n",
       "1 73        0.7038702\n",
       "2 74        0.7038702\n",
       "3 83        0.6987813\n",
       "4 84        0.6987813\n",
       "5 57        0.6949769\n",
       "6 77        0.6947958"
      ]
     },
     "metadata": {},
     "output_type": "display_data"
    }
   ],
   "source": [
    "set.seed(1)\n",
    "\n",
    "# Performing Standardization \n",
    "cleveland_recipe <- recipe(diag ~ chol + thalach , data = cleveland_training) %>%\n",
    "   step_scale(all_predictors()) %>%\n",
    "   step_center(all_predictors())\n",
    "\n",
    "# K-nearest neighbour model specification\n",
    "knn_tune <- nearest_neighbor(weight_func = \"rectangular\", neighbors = tune()) %>%\n",
    "            set_engine(\"kknn\") %>%\n",
    "            set_mode(\"classification\")\n",
    "\n",
    "# Perform 10 fold-cross valdiation\n",
    "cleveland_vfold <- vfold_cv(cleveland_training, v = 10, strata = diag)\n",
    "\n",
    "gridvals <- tibble(neighbors = c(1:100))\n",
    "\n",
    "# Create workflow\n",
    "knn_results <- workflow() %>%\n",
    "      add_recipe(cleveland_recipe) %>%\n",
    "      add_model(knn_tune) %>%\n",
    "      tune_grid(resamples = cleveland_vfold, grid = gridvals) %>%\n",
    "# Collect metrics, filter for accuracy\n",
    "      collect_metrics() %>%\n",
    "      filter(.metric == \"accuracy\") %>%\n",
    "      select(neighbors, mean) %>%\n",
    "      arrange(desc(mean))\n",
    "\n",
    "head(knn_results)"
   ]
  },
  {
   "cell_type": "markdown",
   "metadata": {},
   "source": [
    "Both $k$ = 73 and $k$ = 74 give us 70.4% accuracy!\n",
    "To pick one, we should plot a line graph of accuracy vs $k$.\n",
    "\n",
    "#### Visualizing accuracy\n",
    "\n",
    "Using `geom_line`, we will be able to view how \"safe\" each choice is, that is how big of a difference in accuracy a difference of $k$ ± 1 would cause. To do this, we need to plot a graph of accuracy vs neighbors."
   ]
  },
  {
   "cell_type": "code",
   "execution_count": 11,
   "metadata": {},
   "outputs": [
    {
     "data": {
      "image/png": "[encoded data removed]",
      "text/plain": [
       "plot without title"
      ]
     },
     "metadata": {
      "image/png": {
       "height": 300,
       "width": 600
      }
     },
     "output_type": "display_data"
    }
   ],
   "source": [
    "options(repr.plot.width = 10, repr.plot.height = 5)\n",
    "\n",
    "accuracy_versus_k <- ggplot(knn_results, aes(x = neighbors, y = mean))+\n",
    "      #geom_point() +\n",
    "      geom_line() +\n",
    "      labs(x = \"Neighbors\", y = \"Accuracy Estimate\", title = \"Accuracies for 1 ≤ k ≤ 100\") +\n",
    "      scale_x_continuous(breaks = seq(0, 100, by = 5)) + # adjusting the x-axis\n",
    "      theme(text = element_text(size = 15))\n",
    "\n",
    "accuracy_versus_k"
   ]
  },
  {
   "cell_type": "markdown",
   "metadata": {},
   "source": [
    "Looking at the graph above, $k$ = 74 gives us the \"safest\" value of $k$, because the drops to either side of the point are significantly less steep than the drop from 73 to 72."
   ]
  },
  {
   "cell_type": "markdown",
   "metadata": {},
   "source": [
    "#### Comparing to a majority classifier\n",
    "\n",
    "We still, however, need to compare this accuracy to a majority classifier.\n",
    "\n",
    "To do this, we will `group_by` diagnosis and `summarize` to get the percentage of the most abundant class."
   ]
  },
  {
   "cell_type": "code",
   "execution_count": 10,
   "metadata": {},
   "outputs": [
    {
     "name": "stderr",
     "output_type": "stream",
     "text": [
      "`summarise()` ungrouping output (override with `.groups` argument)\n",
      "\n"
     ]
    },
    {
     "data": {
      "text/html": [
       "<table>\n",
       "<caption>A tibble: 2 × 3</caption>\n",
       "<thead>\n",
       "\t<tr><th scope=col>diag</th><th scope=col>n</th><th scope=col>percent</th></tr>\n",
       "\t<tr><th scope=col>&lt;fct&gt;</th><th scope=col>&lt;int&gt;</th><th scope=col>&lt;dbl&gt;</th></tr>\n",
       "</thead>\n",
       "<tbody>\n",
       "\t<tr><td>FALSE</td><td>123</td><td>53.94737</td></tr>\n",
       "\t<tr><td>TRUE </td><td>105</td><td>46.05263</td></tr>\n",
       "</tbody>\n",
       "</table>\n"
      ],
      "text/latex": [
       "A tibble: 2 × 3\n",
       "\\begin{tabular}{lll}\n",
       " diag & n & percent\\\\\n",
       " <fct> & <int> & <dbl>\\\\\n",
       "\\hline\n",
       "\t FALSE & 123 & 53.94737\\\\\n",
       "\t TRUE  & 105 & 46.05263\\\\\n",
       "\\end{tabular}\n"
      ],
      "text/markdown": [
       "\n",
       "A tibble: 2 × 3\n",
       "\n",
       "| diag &lt;fct&gt; | n &lt;int&gt; | percent &lt;dbl&gt; |\n",
       "|---|---|---|\n",
       "| FALSE | 123 | 53.94737 |\n",
       "| TRUE  | 105 | 46.05263 |\n",
       "\n"
      ],
      "text/plain": [
       "  diag  n   percent \n",
       "1 FALSE 123 53.94737\n",
       "2 TRUE  105 46.05263"
      ]
     },
     "metadata": {},
     "output_type": "display_data"
    }
   ],
   "source": [
    "#Comparing accuracy of classifier with majority classifier\n",
    "cleveland_proportions <- cleveland_training %>%\n",
    "    group_by(diag) %>%\n",
    "    summarize(n=n()) %>%\n",
    "    mutate(percent = 100*n/nrow(cleveland_training))\n",
    "cleveland_proportions"
   ]
  },
  {
   "cell_type": "markdown",
   "metadata": {},
   "source": [
    "We can deduce that a FALSE diagnosis represents the majority of the training data with 53.9% of all results. Therefore, our classifier is more accurate than a majority classifier."
   ]
  },
  {
   "cell_type": "markdown",
   "metadata": {},
   "source": [
    "#### Creating the final model\n",
    "\n",
    "Now that we have a value for $k$, we can create our final spec using `neighbors = 74`. We then fit it to `cleveland_training`."
   ]
  },
  {
   "cell_type": "code",
   "execution_count": 13,
   "metadata": {},
   "outputs": [
    {
     "data": {
      "text/plain": [
       "══ Workflow [trained] ══════════════════════════════════════════════════════════\n",
       "\u001b[3mPreprocessor:\u001b[23m Recipe\n",
       "\u001b[3mModel:\u001b[23m nearest_neighbor()\n",
       "\n",
       "── Preprocessor ────────────────────────────────────────────────────────────────\n",
       "2 Recipe Steps\n",
       "\n",
       "● step_scale()\n",
       "● step_center()\n",
       "\n",
       "── Model ───────────────────────────────────────────────────────────────────────\n",
       "\n",
       "Call:\n",
       "kknn::train.kknn(formula = ..y ~ ., data = data, ks = ~74, kernel = ~\"rectangular\")\n",
       "\n",
       "Type of response variable: nominal\n",
       "Minimal misclassification: 0.3289474\n",
       "Best kernel: rectangular\n",
       "Best k: 74"
      ]
     },
     "metadata": {},
     "output_type": "display_data"
    }
   ],
   "source": [
    "set.seed(1)\n",
    "\n",
    "final_spec <- nearest_neighbor(weight_func=\"rectangular\", neighbors = 74)%>%\n",
    "    set_engine(\"kknn\")%>%\n",
    "    set_mode(\"classification\")\n",
    "\n",
    "fit <- workflow()%>%\n",
    "    add_recipe(cleveland_recipe)%>%\n",
    "    add_model(final_spec)%>%\n",
    "    fit(data = cleveland_training)\n",
    "\n",
    "fit"
   ]
  },
  {
   "cell_type": "markdown",
   "metadata": {},
   "source": [
    "Great, we have a working model now!"
   ]
  },
  {
   "cell_type": "code",
   "execution_count": 2,
   "metadata": {},
   "outputs": [
    {
     "ename": "ERROR",
     "evalue": "Error in predict(fit, cleveland_training) %>% bind_cols(cleveland_training): could not find function \"%>%\"\n",
     "output_type": "error",
     "traceback": [
      "Error in predict(fit, cleveland_training) %>% bind_cols(cleveland_training): could not find function \"%>%\"\nTraceback:\n"
     ]
    }
   ],
   "source": [
    "train_predictions <- predict(fit, cleveland_training) %>%\n",
    "    bind_cols(cleveland_training)\n",
    "\n",
    "thalach_grid <- seq(min(cleveland_clean$thalach), \n",
    "                max(cleveland_clean$thalach), \n",
    "                length.out = 100)\n",
    "\n",
    "chol_grid <- seq(min(cleveland_clean$chol), \n",
    "                max(cleveland_clean$chol), \n",
    "                length.out = 100)\n",
    "\n",
    "asgrid <- as_tibble(expand.grid(thalach = thalach_grid, \n",
    "                                chol = chol_grid))\n",
    "\n",
    "knnPredGrid <- predict(fit, asgrid)\n",
    "\n",
    "prediction_table <- bind_cols(knnPredGrid, asgrid) %>%\n",
    "                    rename(diag = .pred_class)\n",
    "\n",
    "\n",
    "plot_results <- ggplot() + \n",
    "                geom_point(data = train_predictions, \n",
    "                mapping = aes(x = thalach, y = chol, color = diag), \n",
    "                alpha = 0.75) +\n",
    "                geom_point(data = prediction_table, \n",
    "                           mapping = aes(x = thalach, \n",
    "                           y = chol, \n",
    "                           color = diag), \n",
    "                           alpha = 0.02, \n",
    "                           size = 5) +\n",
    "                labs(x = \"Max Heart Rate\", y = \"Cholesterol (mg/dl)\", \n",
    "                     color = \"Diagnosis\", \n",
    "                     title = \"Regions of each diagnosis\") +\n",
    "                scale_color_brewer(palette = \"Dark2\") +\n",
    "                theme(text = element_text(size = 15))\n",
    "\n",
    "plot_results"
   ]
  },
  {
   "cell_type": "markdown",
   "metadata": {},
   "source": [
    "We plotted the graph above to tell us whether our the classifier results in overfitting or underfitting which can cause our classifier to become unreliable on new data. Looking at the graph above the classifer is neither underfitting or overfitting and therefore we can trust that our classifier will be able to predict new data. "
   ]
  },
  {
   "cell_type": "code",
   "execution_count": 1,
   "metadata": {},
   "outputs": [
    {
     "ename": "ERROR",
     "evalue": "Error in predict(fit, cleveland_testing) %>% bind_cols(cleveland_testing): could not find function \"%>%\"\n",
     "output_type": "error",
     "traceback": [
      "Error in predict(fit, cleveland_testing) %>% bind_cols(cleveland_testing): could not find function \"%>%\"\nTraceback:\n"
     ]
    }
   ],
   "source": [
    "set.seed(1)\n",
    "\n",
    "#predict\n",
    "predictions <- predict(fit, cleveland_testing) %>%\n",
    "               bind_cols(cleveland_testing)\n",
    "\n",
    "head(predictions)\n",
    "tail(predictions)\n",
    "\n",
    "#find the accuracy of the predictions\n",
    "metrics<- predictions %>%\n",
    "    metrics(truth = diag, estimate = .pred_class) %>%\n",
    "    filter(.metric == \"accuracy\")\n",
    "metrics\n",
    "\n",
    "#confusion matrix, identifies the areas the model is weak at classifying\n",
    "conf_mat<- predictions %>%\n",
    "    conf_mat(truth = diag, estimate = .pred_class)\n",
    "conf_mat"
   ]
  },
  {
   "cell_type": "markdown",
   "metadata": {},
   "source": [
    "Our classifier labeled 51 out of 75 observations correctly. It also seems to be twice as likely to overdiagnose (16) than under diagnose (8). This is not a terrible error if the classifier is intended to be used before rather than instead of going to a doctor. Medically speaking, it is better to err on the side of caution when it comes to predicting diagnoses.\n",
    "\n",
    "### Discussion\n",
    "#### Answering the predictive question\n",
    "\n",
    "The question that we were trying to answer by using our classifier was this: “Is a new patient likely to have heart disease, based on age, cholesterol levels and maximum heart rate achieved?”\n",
    "To answer this question, we made a classifier that diagnosed heart diseased using age, cholesterol levels, and maximum heart rate achieved.\n",
    "\n",
    "#### Expected findings vs outcome\n",
    "\n",
    "We are expecting a high accuracy for our classifier, roughly above 60%. This was deduced considering that the visualizations between the predictors and target variables depicted clustering of the data points for each diagnosis (TRUE/FALSE), indicating a relatively strong causal relationship with the target variable.\n",
    "\n",
    "In our proposal, we also expected that a patient prone to heart disease will tend to have higher levels of cholesterol and higher maximum heart rates. As mentioned in the introduction both high cholesterol and high blood pressure is likely due to the patients having clogged arteries and therefore restricted blood flow/blood being pumped which greatly increases the risk of having heart disease.\n",
    "\n",
    "Our classifier’s accuracy was around 70%, in accordance with our prediction. Our visualizations showed that our classifier diagnosed patients with heart disease who tended to have higher levels of cholesterol and higher maximum heart rates.\n",
    "\n",
    "Our findings are as expected: a patient prone to heart disease tends to have higher levels of cholesterol and higher maximum heart rates. As mentioned in the introduction both high cholesterol and high blood pressure is likely due to the patients having clogged arteries and therefore restricted blood flow/blood being pumped which greatly increases the risk of having heart disease.\n",
    "\n",
    "#### Impact of these findings\n",
    "\n",
    "Being able to have a classification system for heart disease could make it easier and more accurate for doctors to diagnose patients, resulting in earlier treatment. It could also save doctors time since they already have a clue as to what the diagnosis could be. Therefore, they could spend less time with patients who have a false diagnosis and more with those that have a true one, maximizing the efficiency of the medical system. Having a high level of accuracy in diagnosis is important because a false diagnosis could be fatal. Although the accuracy of the classifier is fairly high, we recommend that it is used as a preliminary prediction prior to visiting a professional, who then can confirm the diagnosis since it is not perfectly accurate.\n",
    "\n",
    "#### What future questions could this lead to?\n",
    "\n",
    "- What is the average cholesterol level of a average middle aged person?\n",
    "- What other factors other than cholesterol and heart rate impact the chance of a person getting heart disease?\n",
    "- What is the mean level of blood pressure in a patient with heart disease?"
   ]
  },
  {
   "cell_type": "markdown",
   "metadata": {},
   "source": [
    "### Bibliography\n",
    "\n",
    "Detecting and Treating Heart Failure. (2002, November 1). WebMD. https://www.webmd.com/heart-disease/heart-failure/understanding-heart-failure-treatment.\n",
    "\n",
    "Preventing & reversing cardiovascular disease. Cleveland Clinic. (n.d.). Retrieved November 6, 2021, from https://my.clevelandclinic.org/health/articles/17385-cardiovascular-disease-prevention--reversal. \n",
    "\n",
    "Rodgers, J. L., Jones, J., Bolleddu, S. I., Vanthenapalli, S., Rodgers, L. E., Shah, K., Karia, K., & Panguluri, S. K. (2019, April 27). Cardiovascular risks associated with gender and aging. Journal of cardiovascular development and disease. Retrieved November 10, 2021, from https://www.ncbi.nlm.nih.gov/pmc/articles/PMC6616540/.\n",
    "\n",
    "The creators of the Heart Disease Database are:\n",
    "1. Hungarian Institute of Cardiology. Budapest: Andras Janosi, M.D.\n",
    "2. University Hospital, Zurich, Switzerland: William Steinbrunn, M.D.\n",
    "3. University Hospital, Basel, Switzerland: Matthias Pfisterer, M.D.\n",
    "4. V.A. Medical Center, Long Beach and Cleveland Clinic Foundation: Robert Detrano, M.D., Ph.D."
   ]
  }
 ],
 "metadata": {
  "kernelspec": {
   "display_name": "R",
   "language": "R",
   "name": "ir"
  },
  "language_info": {
   "codemirror_mode": "r",
   "file_extension": ".r",
   "mimetype": "text/x-r-source",
   "name": "R",
   "pygments_lexer": "r",
   "version": "4.0.0"
  }
 },
 "nbformat": 4,
 "nbformat_minor": 4
}
