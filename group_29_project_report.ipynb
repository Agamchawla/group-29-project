{
 "cells": [
  {
   "cell_type": "markdown",
   "metadata": {},
   "source": [
    "# Project Report"
   ]
  },
  {
   "cell_type": "markdown",
   "metadata": {},
   "source": [
    "# **Using age, cholesterol and heart rate to classify heart disease patients from Cleveland.**\n",
    "#### Shreya Arora, Youssef Saleh, Zahra Vink."
   ]
  },
  {
   "cell_type": "markdown",
   "metadata": {},
   "source": [
    "### Introduction\n",
    "The term heart (cardiovascular) disease describes a range of heart conditions that arise from problems with the heart and blood vessels. One of these is coronary artery disease, which is when the arteries supplying blood to the heart narrow. Many risk factors can increase the chance of developing this disease, including cholesterol levels and maximum heart rate (Cleveland Clinic, n.d.). Age is also a factor, with older people being more likely to be diagnosed with heart disease (Rogers et al., 2019).\n",
    "\n",
    "High levels of cholesterol result in fatty deposits in blood vessels that clog them, making it difficult for enough blood to flow through the arteries. When these deposits break suddenly, they form a clot resulting in a heart attack or stroke. If a patient has heart disease, their maximum heart rate could significantly decrease (WebMD, 2002). \n",
    "\n",
    "The goal of this project will be to use these risk factors to classify patients based on likeliness to have heart disease.\n",
    "\n",
    "The question we will be addressing is: **Is a new patient likely to have heart disease, based on age, cholesterol levels and maximum heart rate achieved?**"
   ]
  },
  {
   "cell_type": "markdown",
   "metadata": {},
   "source": [
    "### Preliminary exploratory data analysis"
   ]
  },
  {
   "cell_type": "code",
   "execution_count": 1,
   "metadata": {},
   "outputs": [
    {
     "name": "stderr",
     "output_type": "stream",
     "text": [
      "── \u001b[1mAttaching packages\u001b[22m ─────────────────────────────────────── tidyverse 1.3.0 ──\n",
      "\n",
      "\u001b[32m✔\u001b[39m \u001b[34mggplot2\u001b[39m 3.3.2     \u001b[32m✔\u001b[39m \u001b[34mpurrr  \u001b[39m 0.3.4\n",
      "\u001b[32m✔\u001b[39m \u001b[34mtibble \u001b[39m 3.0.3     \u001b[32m✔\u001b[39m \u001b[34mdplyr  \u001b[39m 1.0.2\n",
      "\u001b[32m✔\u001b[39m \u001b[34mtidyr  \u001b[39m 1.1.2     \u001b[32m✔\u001b[39m \u001b[34mstringr\u001b[39m 1.4.0\n",
      "\u001b[32m✔\u001b[39m \u001b[34mreadr  \u001b[39m 1.3.1     \u001b[32m✔\u001b[39m \u001b[34mforcats\u001b[39m 0.5.0\n",
      "\n",
      "Warning message:\n",
      "“package ‘ggplot2’ was built under R version 4.0.1”\n",
      "Warning message:\n",
      "“package ‘tibble’ was built under R version 4.0.2”\n",
      "Warning message:\n",
      "“package ‘tidyr’ was built under R version 4.0.2”\n",
      "Warning message:\n",
      "“package ‘dplyr’ was built under R version 4.0.2”\n",
      "── \u001b[1mConflicts\u001b[22m ────────────────────────────────────────── tidyverse_conflicts() ──\n",
      "\u001b[31m✖\u001b[39m \u001b[34mdplyr\u001b[39m::\u001b[32mfilter()\u001b[39m masks \u001b[34mstats\u001b[39m::filter()\n",
      "\u001b[31m✖\u001b[39m \u001b[34mdplyr\u001b[39m::\u001b[32mlag()\u001b[39m    masks \u001b[34mstats\u001b[39m::lag()\n",
      "\n",
      "Warning message:\n",
      "“package ‘tidymodels’ was built under R version 4.0.2”\n",
      "── \u001b[1mAttaching packages\u001b[22m ────────────────────────────────────── tidymodels 0.1.1 ──\n",
      "\n",
      "\u001b[32m✔\u001b[39m \u001b[34mbroom    \u001b[39m 0.7.0      \u001b[32m✔\u001b[39m \u001b[34mrecipes  \u001b[39m 0.1.13\n",
      "\u001b[32m✔\u001b[39m \u001b[34mdials    \u001b[39m 0.0.9      \u001b[32m✔\u001b[39m \u001b[34mrsample  \u001b[39m 0.0.7 \n",
      "\u001b[32m✔\u001b[39m \u001b[34minfer    \u001b[39m 0.5.4      \u001b[32m✔\u001b[39m \u001b[34mtune     \u001b[39m 0.1.1 \n",
      "\u001b[32m✔\u001b[39m \u001b[34mmodeldata\u001b[39m 0.0.2      \u001b[32m✔\u001b[39m \u001b[34mworkflows\u001b[39m 0.2.0 \n",
      "\u001b[32m✔\u001b[39m \u001b[34mparsnip  \u001b[39m 0.1.3      \u001b[32m✔\u001b[39m \u001b[34myardstick\u001b[39m 0.0.7 \n",
      "\n",
      "Warning message:\n",
      "“package ‘broom’ was built under R version 4.0.2”\n",
      "Warning message:\n",
      "“package ‘dials’ was built under R version 4.0.2”\n",
      "Warning message:\n",
      "“package ‘infer’ was built under R version 4.0.3”\n",
      "Warning message:\n",
      "“package ‘modeldata’ was built under R version 4.0.1”\n",
      "Warning message:\n",
      "“package ‘parsnip’ was built under R version 4.0.2”\n",
      "Warning message:\n",
      "“package ‘recipes’ was built under R version 4.0.1”\n",
      "Warning message:\n",
      "“package ‘tune’ was built under R version 4.0.2”\n",
      "Warning message:\n",
      "“package ‘workflows’ was built under R version 4.0.2”\n",
      "Warning message:\n",
      "“package ‘yardstick’ was built under R version 4.0.2”\n",
      "── \u001b[1mConflicts\u001b[22m ───────────────────────────────────────── tidymodels_conflicts() ──\n",
      "\u001b[31m✖\u001b[39m \u001b[34mscales\u001b[39m::\u001b[32mdiscard()\u001b[39m masks \u001b[34mpurrr\u001b[39m::discard()\n",
      "\u001b[31m✖\u001b[39m \u001b[34mdplyr\u001b[39m::\u001b[32mfilter()\u001b[39m   masks \u001b[34mstats\u001b[39m::filter()\n",
      "\u001b[31m✖\u001b[39m \u001b[34mrecipes\u001b[39m::\u001b[32mfixed()\u001b[39m  masks \u001b[34mstringr\u001b[39m::fixed()\n",
      "\u001b[31m✖\u001b[39m \u001b[34mdplyr\u001b[39m::\u001b[32mlag()\u001b[39m      masks \u001b[34mstats\u001b[39m::lag()\n",
      "\u001b[31m✖\u001b[39m \u001b[34myardstick\u001b[39m::\u001b[32mspec()\u001b[39m masks \u001b[34mreadr\u001b[39m::spec()\n",
      "\u001b[31m✖\u001b[39m \u001b[34mrecipes\u001b[39m::\u001b[32mstep()\u001b[39m   masks \u001b[34mstats\u001b[39m::step()\n",
      "\n"
     ]
    }
   ],
   "source": [
    "# importing libraries\n",
    "library(tidyverse)\n",
    "library(tidymodels)\n",
    "library(repr)\n",
    "library(RColorBrewer)"
   ]
  },
  {
   "cell_type": "code",
   "execution_count": 2,
   "metadata": {},
   "outputs": [
    {
     "data": {
      "text/html": [
       "<table>\n",
       "<caption>A tibble: 6 × 15</caption>\n",
       "<thead>\n",
       "\t<tr><th scope=col>age</th><th scope=col>sex</th><th scope=col>cp</th><th scope=col>trestbps</th><th scope=col>chol</th><th scope=col>fbs</th><th scope=col>restecg</th><th scope=col>thalach</th><th scope=col>exang</th><th scope=col>oldpeak</th><th scope=col>slope</th><th scope=col>ca</th><th scope=col>thal</th><th scope=col>num</th><th scope=col>diag</th></tr>\n",
       "\t<tr><th scope=col>&lt;dbl&gt;</th><th scope=col>&lt;fct&gt;</th><th scope=col>&lt;fct&gt;</th><th scope=col>&lt;dbl&gt;</th><th scope=col>&lt;dbl&gt;</th><th scope=col>&lt;fct&gt;</th><th scope=col>&lt;fct&gt;</th><th scope=col>&lt;dbl&gt;</th><th scope=col>&lt;fct&gt;</th><th scope=col>&lt;dbl&gt;</th><th scope=col>&lt;fct&gt;</th><th scope=col>&lt;fct&gt;</th><th scope=col>&lt;fct&gt;</th><th scope=col>&lt;fct&gt;</th><th scope=col>&lt;lgl&gt;</th></tr>\n",
       "</thead>\n",
       "<tbody>\n",
       "\t<tr><td>63</td><td>1</td><td>1</td><td>145</td><td>233</td><td>1</td><td>2</td><td>150</td><td>0</td><td>2.3</td><td>3</td><td>1</td><td>1</td><td>0</td><td>FALSE</td></tr>\n",
       "\t<tr><td>67</td><td>1</td><td>4</td><td>160</td><td>286</td><td>0</td><td>2</td><td>108</td><td>1</td><td>1.5</td><td>2</td><td>2</td><td>2</td><td>2</td><td> TRUE</td></tr>\n",
       "\t<tr><td>67</td><td>1</td><td>4</td><td>120</td><td>229</td><td>0</td><td>2</td><td>129</td><td>1</td><td>2.6</td><td>2</td><td>3</td><td>3</td><td>1</td><td> TRUE</td></tr>\n",
       "\t<tr><td>37</td><td>1</td><td>3</td><td>130</td><td>250</td><td>0</td><td>0</td><td>187</td><td>0</td><td>3.5</td><td>3</td><td>1</td><td>2</td><td>0</td><td>FALSE</td></tr>\n",
       "\t<tr><td>41</td><td>0</td><td>2</td><td>130</td><td>204</td><td>0</td><td>2</td><td>172</td><td>0</td><td>1.4</td><td>1</td><td>1</td><td>2</td><td>0</td><td>FALSE</td></tr>\n",
       "\t<tr><td>56</td><td>1</td><td>2</td><td>120</td><td>236</td><td>0</td><td>0</td><td>178</td><td>0</td><td>0.8</td><td>1</td><td>1</td><td>2</td><td>0</td><td>FALSE</td></tr>\n",
       "</tbody>\n",
       "</table>\n"
      ],
      "text/latex": [
       "A tibble: 6 × 15\n",
       "\\begin{tabular}{lllllllllllllll}\n",
       " age & sex & cp & trestbps & chol & fbs & restecg & thalach & exang & oldpeak & slope & ca & thal & num & diag\\\\\n",
       " <dbl> & <fct> & <fct> & <dbl> & <dbl> & <fct> & <fct> & <dbl> & <fct> & <dbl> & <fct> & <fct> & <fct> & <fct> & <lgl>\\\\\n",
       "\\hline\n",
       "\t 63 & 1 & 1 & 145 & 233 & 1 & 2 & 150 & 0 & 2.3 & 3 & 1 & 1 & 0 & FALSE\\\\\n",
       "\t 67 & 1 & 4 & 160 & 286 & 0 & 2 & 108 & 1 & 1.5 & 2 & 2 & 2 & 2 &  TRUE\\\\\n",
       "\t 67 & 1 & 4 & 120 & 229 & 0 & 2 & 129 & 1 & 2.6 & 2 & 3 & 3 & 1 &  TRUE\\\\\n",
       "\t 37 & 1 & 3 & 130 & 250 & 0 & 0 & 187 & 0 & 3.5 & 3 & 1 & 2 & 0 & FALSE\\\\\n",
       "\t 41 & 0 & 2 & 130 & 204 & 0 & 2 & 172 & 0 & 1.4 & 1 & 1 & 2 & 0 & FALSE\\\\\n",
       "\t 56 & 1 & 2 & 120 & 236 & 0 & 0 & 178 & 0 & 0.8 & 1 & 1 & 2 & 0 & FALSE\\\\\n",
       "\\end{tabular}\n"
      ],
      "text/markdown": [
       "\n",
       "A tibble: 6 × 15\n",
       "\n",
       "| age &lt;dbl&gt; | sex &lt;fct&gt; | cp &lt;fct&gt; | trestbps &lt;dbl&gt; | chol &lt;dbl&gt; | fbs &lt;fct&gt; | restecg &lt;fct&gt; | thalach &lt;dbl&gt; | exang &lt;fct&gt; | oldpeak &lt;dbl&gt; | slope &lt;fct&gt; | ca &lt;fct&gt; | thal &lt;fct&gt; | num &lt;fct&gt; | diag &lt;lgl&gt; |\n",
       "|---|---|---|---|---|---|---|---|---|---|---|---|---|---|---|\n",
       "| 63 | 1 | 1 | 145 | 233 | 1 | 2 | 150 | 0 | 2.3 | 3 | 1 | 1 | 0 | FALSE |\n",
       "| 67 | 1 | 4 | 160 | 286 | 0 | 2 | 108 | 1 | 1.5 | 2 | 2 | 2 | 2 |  TRUE |\n",
       "| 67 | 1 | 4 | 120 | 229 | 0 | 2 | 129 | 1 | 2.6 | 2 | 3 | 3 | 1 |  TRUE |\n",
       "| 37 | 1 | 3 | 130 | 250 | 0 | 0 | 187 | 0 | 3.5 | 3 | 1 | 2 | 0 | FALSE |\n",
       "| 41 | 0 | 2 | 130 | 204 | 0 | 2 | 172 | 0 | 1.4 | 1 | 1 | 2 | 0 | FALSE |\n",
       "| 56 | 1 | 2 | 120 | 236 | 0 | 0 | 178 | 0 | 0.8 | 1 | 1 | 2 | 0 | FALSE |\n",
       "\n"
      ],
      "text/plain": [
       "  age sex cp trestbps chol fbs restecg thalach exang oldpeak slope ca thal num\n",
       "1 63  1   1  145      233  1   2       150     0     2.3     3     1  1    0  \n",
       "2 67  1   4  160      286  0   2       108     1     1.5     2     2  2    2  \n",
       "3 67  1   4  120      229  0   2       129     1     2.6     2     3  3    1  \n",
       "4 37  1   3  130      250  0   0       187     0     3.5     3     1  2    0  \n",
       "5 41  0   2  130      204  0   2       172     0     1.4     1     1  2    0  \n",
       "6 56  1   2  120      236  0   0       178     0     0.8     1     1  2    0  \n",
       "  diag \n",
       "1 FALSE\n",
       "2  TRUE\n",
       "3  TRUE\n",
       "4 FALSE\n",
       "5 FALSE\n",
       "6 FALSE"
      ]
     },
     "metadata": {},
     "output_type": "display_data"
    }
   ],
   "source": [
    "set.seed(1)\n",
    "# reading the dataframe from URL, assigning col names and types\n",
    "cleveland_data <- read_csv(\"https://archive.ics.uci.edu/ml/machine-learning-databases/heart-disease/processed.cleveland.data\",\n",
    "                           col_names = c(\"age\", \"sex\", \"cp\", \"trestbps\", \"chol\", \"fbs\", \"restecg\", \n",
    "                                         \"thalach\", \"exang\", \"oldpeak\", \"slope\", \"ca\", \"thal\", \"num\"),\n",
    "                           col_types = list(\"d\", \"d\", \"d\", \"d\", \"d\", \"d\", \"d\", \"d\", \"d\", \"d\", \"d\", \"f\", \"f\", \"d\"))\n",
    "\n",
    "# cleaning, wrangling data\n",
    "cleveland_data[ cleveland_data == \"?\" ] <- NA\n",
    "\n",
    "cleveland_clean <- cleveland_data %>%\n",
    "                    mutate(diag = ifelse(is.na(num), NA, (num > 0))) %>%\n",
    "                    mutate(sex = as.factor(as.integer(sex)), cp = as.factor(as.integer(cp)), \n",
    "                           fbs = as.factor(as.integer(fbs)), restecg = as.factor(as.integer(restecg)),\n",
    "                           exang = as.factor(as.integer(exang)), thal = as.factor(as.integer(thal)),\n",
    "                           ca = as.factor(as.integer(ca)), slope = as.factor(as.integer(slope))) %>%\n",
    "                    mutate(num = as_factor(num))\n",
    "\n",
    "#splitting dataframe into training, testing datasets\n",
    "cleveland_split <- initial_split(cleveland_clean, prop = 3/4, strata = num)\n",
    "\n",
    "cleveland_training <- training(cleveland_split)\n",
    "cleveland_testing <- testing(cleveland_split)\n",
    "\n",
    "head(cleveland_training)"
   ]
  },
  {
   "cell_type": "code",
   "execution_count": 25,
   "metadata": {},
   "outputs": [
    {
     "name": "stderr",
     "output_type": "stream",
     "text": [
      "`summarise()` ungrouping output (override with `.groups` argument)\n",
      "\n"
     ]
    },
    {
     "data": {
      "text/html": [
       "<table>\n",
       "<caption>A tibble: 2 × 11</caption>\n",
       "<thead>\n",
       "\t<tr><th scope=col>diag</th><th scope=col>min_age</th><th scope=col>max_age</th><th scope=col>mean_age</th><th scope=col>min_chol</th><th scope=col>max_chol</th><th scope=col>mean_chol</th><th scope=col>min_thalach</th><th scope=col>max_thalach</th><th scope=col>mean_thalach</th><th scope=col>n_of_patients</th></tr>\n",
       "\t<tr><th scope=col>&lt;lgl&gt;</th><th scope=col>&lt;dbl&gt;</th><th scope=col>&lt;dbl&gt;</th><th scope=col>&lt;dbl&gt;</th><th scope=col>&lt;dbl&gt;</th><th scope=col>&lt;dbl&gt;</th><th scope=col>&lt;dbl&gt;</th><th scope=col>&lt;dbl&gt;</th><th scope=col>&lt;dbl&gt;</th><th scope=col>&lt;dbl&gt;</th><th scope=col>&lt;int&gt;</th></tr>\n",
       "</thead>\n",
       "<tbody>\n",
       "\t<tr><td>FALSE</td><td>29</td><td>74</td><td>52.71545</td><td>141</td><td>417</td><td>241.2439</td><td>96</td><td>202</td><td>157.6179</td><td>123</td></tr>\n",
       "\t<tr><td> TRUE</td><td>35</td><td>77</td><td>56.72381</td><td>131</td><td>353</td><td>252.6857</td><td>90</td><td>182</td><td>139.4095</td><td>105</td></tr>\n",
       "</tbody>\n",
       "</table>\n"
      ],
      "text/latex": [
       "A tibble: 2 × 11\n",
       "\\begin{tabular}{lllllllllll}\n",
       " diag & min\\_age & max\\_age & mean\\_age & min\\_chol & max\\_chol & mean\\_chol & min\\_thalach & max\\_thalach & mean\\_thalach & n\\_of\\_patients\\\\\n",
       " <lgl> & <dbl> & <dbl> & <dbl> & <dbl> & <dbl> & <dbl> & <dbl> & <dbl> & <dbl> & <int>\\\\\n",
       "\\hline\n",
       "\t FALSE & 29 & 74 & 52.71545 & 141 & 417 & 241.2439 & 96 & 202 & 157.6179 & 123\\\\\n",
       "\t  TRUE & 35 & 77 & 56.72381 & 131 & 353 & 252.6857 & 90 & 182 & 139.4095 & 105\\\\\n",
       "\\end{tabular}\n"
      ],
      "text/markdown": [
       "\n",
       "A tibble: 2 × 11\n",
       "\n",
       "| diag &lt;lgl&gt; | min_age &lt;dbl&gt; | max_age &lt;dbl&gt; | mean_age &lt;dbl&gt; | min_chol &lt;dbl&gt; | max_chol &lt;dbl&gt; | mean_chol &lt;dbl&gt; | min_thalach &lt;dbl&gt; | max_thalach &lt;dbl&gt; | mean_thalach &lt;dbl&gt; | n_of_patients &lt;int&gt; |\n",
       "|---|---|---|---|---|---|---|---|---|---|---|\n",
       "| FALSE | 29 | 74 | 52.71545 | 141 | 417 | 241.2439 | 96 | 202 | 157.6179 | 123 |\n",
       "|  TRUE | 35 | 77 | 56.72381 | 131 | 353 | 252.6857 | 90 | 182 | 139.4095 | 105 |\n",
       "\n"
      ],
      "text/plain": [
       "  diag  min_age max_age mean_age min_chol max_chol mean_chol min_thalach\n",
       "1 FALSE 29      74      52.71545 141      417      241.2439  96         \n",
       "2  TRUE 35      77      56.72381 131      353      252.6857  90         \n",
       "  max_thalach mean_thalach n_of_patients\n",
       "1 202         157.6179     123          \n",
       "2 182         139.4095     105          "
      ]
     },
     "metadata": {},
     "output_type": "display_data"
    }
   ],
   "source": [
    "#summarizing to get min, max, mean of each predictor + total no. of rows per class\n",
    "cleveland_summary <- cleveland_training %>%\n",
    "                    group_by(diag) %>%\n",
    "                    summarize(min_age = min(age), max_age = max(age), mean_age = mean(age),\n",
    "                              min_chol = min(chol), max_chol = max(chol), mean_chol = mean(chol), \n",
    "                              min_thalach = min(thalach), max_thalach = max(thalach), mean_thalach = mean(thalach),\n",
    "                              n_of_patients = n())\n",
    "\n",
    "cleveland_summary"
   ]
  },
  {
   "cell_type": "code",
   "execution_count": 18,
   "metadata": {},
   "outputs": [
    {
     "ename": "ERROR",
     "evalue": "Error in png(tf, width, height, \"in\", pointsize, bg, res, antialias = antialias): unable to start device 'png'\n",
     "output_type": "error",
     "traceback": [
      "Error in png(tf, width, height, \"in\", pointsize, bg, res, antialias = antialias): unable to start device 'png'\nTraceback:\n"
     ]
    },
    {
     "data": {
      "text/plain": [
       "plot without title"
      ]
     },
     "metadata": {
      "image/png": {
       "height": 24000,
       "width": 12000
      }
     },
     "output_type": "display_data"
    },
    {
     "ename": "ERROR",
     "evalue": "Error in png(tf, width, height, \"in\", pointsize, bg, res, antialias = antialias): unable to start device 'png'\n",
     "output_type": "error",
     "traceback": [
      "Error in png(tf, width, height, \"in\", pointsize, bg, res, antialias = antialias): unable to start device 'png'\nTraceback:\n"
     ]
    },
    {
     "data": {
      "text/plain": [
       "plot without title"
      ]
     },
     "metadata": {
      "image/png": {
       "height": 24000,
       "width": 12000
      }
     },
     "output_type": "display_data"
    },
    {
     "ename": "ERROR",
     "evalue": "Error in png(tf, width, height, \"in\", pointsize, bg, res, antialias = antialias): unable to start device 'png'\n",
     "output_type": "error",
     "traceback": [
      "Error in png(tf, width, height, \"in\", pointsize, bg, res, antialias = antialias): unable to start device 'png'\nTraceback:\n"
     ]
    },
    {
     "data": {
      "text/plain": [
       "plot without title"
      ]
     },
     "metadata": {
      "image/png": {
       "height": 24000,
       "width": 12000
      }
     },
     "output_type": "display_data"
    }
   ],
   "source": [
    "#plotting the training data\n",
    "plot1 <- ggplot(cleveland_training, aes(x = thalach, y = chol, color = diag)) +\n",
    "                 geom_point() +\n",
    "                 labs(x = \"max heart rate reached\", y = \"cholesterol (mg/dl)\", color = \"diagnosis\") +\n",
    "                 scale_color_brewer(palette = \"Set1\")\n",
    "\n",
    "plot2 <- ggplot(cleveland_training, aes(x = age, y = chol, color = diag)) +\n",
    "                 geom_point() +\n",
    "                 labs(x = \"age (years)\", y = \"cholesterol (mg/dl)\", color = \"diagnosis\") +\n",
    "                 scale_color_brewer(palette = \"Set1\")\n",
    "\n",
    "plot3 <- ggplot(cleveland_training, aes(x = age, y = thalach, color = diag)) +\n",
    "                 geom_point() +\n",
    "                 labs(x = \"age (years)\", y = \"max heart rate reached\", color = \"diagnosis\") +\n",
    "                 scale_color_brewer(palette = \"Set1\")\n",
    "\n",
    "plot1\n",
    "plot2\n",
    "plot3"
   ]
  },
  {
   "cell_type": "markdown",
   "metadata": {},
   "source": [
    "### Methods\n",
    "We are using the processed.cleveland.data from the Heart Disease Database (originally collected from the Cleveland Clinic Foundation) to predict if a patient from Cleveland will have heart disease. The columns are as follows:\n",
    "1. **age**: age\n",
    "2. **sex**: sex (1 = male, 0 = female)\n",
    "3. **cp**: chest pain type\n",
    "4. **trestbps**: resting blood pressure in mmHg\n",
    "5. **chol**: serum cholestoral in mg/dl\n",
    "6. **fbs**: fasting blood sugar > 120 mg/dl? (1 = True, 0 = False)\n",
    "7. **restecg**: resting electrocardiographic results\n",
    "8. **thalach**: maximum heart rate achieved\n",
    "9. **exang**: whether exercise induced angina (1 = True, 0 = False)\n",
    "10. **oldpeak**: ST depression induced by exercise, relative to rest\n",
    "11. **slope**: the slope of the peak exercise ST segment (1 = upslope, 2 = flat, 3 = downslope)\n",
    "12. **ca**: number of major vessels (0-3) colored by flourosopy\n",
    "13. **thal**: (3 = normal, 6 = fixed defect, 7 = reversable defect)\n",
    "14. **num**: diagnosis of heart disease (1,2,3,4 = presence, 0 = no presence)\n",
    "\n",
    "Each column is numeric-valued and there are 303 rows, with missing data represented as the string \"?\".\n",
    "\n",
    "To clean the data, we changed all \"?\" values into NA. Since **num** uses integers to distinguish presence (1,2,3,4) from absence (0), and we want to determine *whether or not* a patient has heart disease, a new boolean column **diag** has been appended to narrow diagnoses down to TRUE or FALSE.\n",
    "\n",
    "We used initial_split() to split our dataframe into 75% training and 25% testing data, stratifying for **diag**. We used only the training set for analysis.\n",
    "\n",
    "To summarize our data, we grouped by **diag** then summarized for the minimum, maximum and mean of each of **age**, **chol** and **thalach**. We noticed that the mean age of patients with heart disease is higher, as well as their cholesterol. Their maximum heart rate achieved was lower, on average.\n",
    "\n",
    "To visualize relationships in our data, we generated scatter plots of different numerical (non-factor) variables against eachother. This helped us identify the best predictors to use, which eneded up aligning with our initial research (see introduction). When plotting **chol** vs **thalach**, and coloring our points based on **diag**, we could see three clear regions of TRUE diagnoses, FALSE diagnoses and an region of mixing of the two. Similarly distinct distributions were seen when visualizing **age** vs **chol** and **age** vs **thalach**."
   ]
  },
  {
   "cell_type": "markdown",
   "metadata": {},
   "source": [
    "### Data Analysis\n",
    "\n",
    "**Finding best K value**\n",
    "\n",
    "Now our goal is to find the best value for the K-nearest neighbours, that provides us with the highest accuracy, and better predictions. We had already split the data into a training and testing set in the beginning, so in the code below we create a classifier and preform cross validation with 10 folds. "
   ]
  },
  {
   "cell_type": "code",
   "execution_count": 5,
   "metadata": {},
   "outputs": [
    {
     "name": "stderr",
     "output_type": "stream",
     "text": [
      "\u001b[33m!\u001b[39m \u001b[33mFold01: internal: No observations were detected in `truth` for level(s): '4'\n",
      "Com...\u001b[39m\n",
      "\n",
      "\u001b[33m!\u001b[39m \u001b[33mFold03: internal: No observations were detected in `truth` for level(s): '4'\n",
      "Com...\u001b[39m\n",
      "\n",
      "\u001b[33m!\u001b[39m \u001b[33mFold06: internal: No observations were detected in `truth` for level(s): '4'\n",
      "Com...\u001b[39m\n",
      "\n",
      "\u001b[33m!\u001b[39m \u001b[33mFold09: internal: No observations were detected in `truth` for level(s): '4'\n",
      "Com...\u001b[39m\n",
      "\n"
     ]
    }
   ],
   "source": [
    "# Performing Standardization \n",
    "cleveland_recipe <- recipe(num ~ chol + thalach , data = cleveland_training) %>%\n",
    "   step_scale(all_predictors()) %>%\n",
    "   step_center(all_predictors())\n",
    "\n",
    "# Create classifier\n",
    "knn_spec <- nearest_neighbor(weight_func = \"rectangular\", neighbors = 3) %>%\n",
    "      set_engine(\"kknn\") %>%\n",
    "      set_mode(\"classification\")\n",
    "# cleveland_fit <- workflow() %>%\n",
    "#       add_recipe(cleveland_recipe) %>%\n",
    "#       add_model(knn_spec) %>%\n",
    "#       fit(data = cleveland_training)\n",
    "\n",
    "# Perform 10 fold-cross valdiation \n",
    "cleveland_vfold <- vfold_cv(cleveland_training, v = 10, strata = num)\n",
    "\n",
    "# cleveland_resample_fit <- workflow() %>%\n",
    "#       add_recipe(cleveland_recipe) %>%\n",
    "#       add_model(knn_spec) %>%\n",
    "#       fit_resamples(resamples = cleveland_vfold)\n",
    "\n",
    "# Get the mean and standard error of of classifier accuracy\n",
    "# cleveland_metrics <- cleveland_resample_fit %>%\n",
    "#       collect_metrics()\n",
    "# cleveland_metrics\n",
    "\n",
    "# K-nearest neighbour model specification\n",
    "knn_tune <- nearest_neighbor(weight_func = \"rectangular\", neighbors = tune()) %>%\n",
    "            set_engine(\"kknn\") %>%\n",
    "            set_mode(\"classification\")\n",
    "\n",
    "gridvals <- tibble(neighbors = c(1:75))\n",
    "\n",
    "# Create new workflow using new knn_tune \n",
    "knn_results <- workflow() %>%\n",
    "      add_recipe(cleveland_recipe) %>%\n",
    "      add_model(knn_tune) %>%\n",
    "      tune_grid(resamples = cleveland_vfold, grid = gridvals) %>%\n",
    "      collect_metrics()\n",
    "\n",
    "#knn_results"
   ]
  },
  {
   "cell_type": "code",
   "execution_count": 15,
   "metadata": {},
   "outputs": [
    {
     "data": {
      "text/html": [
       "<table>\n",
       "<caption>A tibble: 6 × 2</caption>\n",
       "<thead>\n",
       "\t<tr><th scope=col>neighbors</th><th scope=col>mean</th></tr>\n",
       "\t<tr><th scope=col>&lt;int&gt;</th><th scope=col>&lt;dbl&gt;</th></tr>\n",
       "</thead>\n",
       "<tbody>\n",
       "\t<tr><td>19</td><td>0.5621404</td></tr>\n",
       "\t<tr><td>20</td><td>0.5578114</td></tr>\n",
       "\t<tr><td>21</td><td>0.5534636</td></tr>\n",
       "\t<tr><td>39</td><td>0.5476108</td></tr>\n",
       "\t<tr><td>18</td><td>0.5454448</td></tr>\n",
       "\t<tr><td>23</td><td>0.5449181</td></tr>\n",
       "</tbody>\n",
       "</table>\n"
      ],
      "text/latex": [
       "A tibble: 6 × 2\n",
       "\\begin{tabular}{ll}\n",
       " neighbors & mean\\\\\n",
       " <int> & <dbl>\\\\\n",
       "\\hline\n",
       "\t 19 & 0.5621404\\\\\n",
       "\t 20 & 0.5578114\\\\\n",
       "\t 21 & 0.5534636\\\\\n",
       "\t 39 & 0.5476108\\\\\n",
       "\t 18 & 0.5454448\\\\\n",
       "\t 23 & 0.5449181\\\\\n",
       "\\end{tabular}\n"
      ],
      "text/markdown": [
       "\n",
       "A tibble: 6 × 2\n",
       "\n",
       "| neighbors &lt;int&gt; | mean &lt;dbl&gt; |\n",
       "|---|---|\n",
       "| 19 | 0.5621404 |\n",
       "| 20 | 0.5578114 |\n",
       "| 21 | 0.5534636 |\n",
       "| 39 | 0.5476108 |\n",
       "| 18 | 0.5454448 |\n",
       "| 23 | 0.5449181 |\n",
       "\n"
      ],
      "text/plain": [
       "  neighbors mean     \n",
       "1 19        0.5621404\n",
       "2 20        0.5578114\n",
       "3 21        0.5534636\n",
       "4 39        0.5476108\n",
       "5 18        0.5454448\n",
       "6 23        0.5449181"
      ]
     },
     "metadata": {},
     "output_type": "display_data"
    },
    {
     "data": {
      "image/png": "[encoded data removed]",
      "text/plain": [
       "plot without title"
      ]
     },
     "metadata": {
      "image/png": {
       "height": 300,
       "width": 600
      }
     },
     "output_type": "display_data"
    }
   ],
   "source": [
    "options(repr.plot.width=10, repr.plot.height=5)\n",
    "\n",
    "#To find best k value filter for accuracies and graph\n",
    "accuracies <- knn_results %>% \n",
    "      filter(.metric == \"accuracy\") %>%\n",
    "      select(neighbors, mean) %>%\n",
    "      arrange(desc(mean))\n",
    "\n",
    "accuracy_versus_k <- ggplot(accuracies, aes(x = neighbors, y = mean))+\n",
    "      #geom_point() +\n",
    "      geom_line() +\n",
    "      labs(x = \"Neighbors\", y = \"Accuracy Estimate\", title = \"Accuracies for 1 ≤ k ≤ 75\") +\n",
    "      scale_x_continuous(breaks = seq(0, 75, by = 5))  # adjusting the x-axis\n",
    "\n",
    "accuracy_versus_k\n",
    "head(accuracies)"
   ]
  },
  {
   "cell_type": "markdown",
   "metadata": {},
   "source": [
    "**This is excluding age**\n",
    "\n",
    "Looking at the graph above, $k$ = 13 give us the best accuracy, at 56%"
   ]
  },
  {
   "cell_type": "code",
   "execution_count": 7,
   "metadata": {},
   "outputs": [
    {
     "data": {
      "text/html": [
       "<table>\n",
       "<caption>A tibble: 75 × 16</caption>\n",
       "<thead>\n",
       "\t<tr><th scope=col>.pred_class</th><th scope=col>age</th><th scope=col>sex</th><th scope=col>cp</th><th scope=col>trestbps</th><th scope=col>chol</th><th scope=col>fbs</th><th scope=col>restecg</th><th scope=col>thalach</th><th scope=col>exang</th><th scope=col>oldpeak</th><th scope=col>slope</th><th scope=col>ca</th><th scope=col>thal</th><th scope=col>num</th><th scope=col>diag</th></tr>\n",
       "\t<tr><th scope=col>&lt;fct&gt;</th><th scope=col>&lt;dbl&gt;</th><th scope=col>&lt;fct&gt;</th><th scope=col>&lt;fct&gt;</th><th scope=col>&lt;dbl&gt;</th><th scope=col>&lt;dbl&gt;</th><th scope=col>&lt;fct&gt;</th><th scope=col>&lt;fct&gt;</th><th scope=col>&lt;dbl&gt;</th><th scope=col>&lt;fct&gt;</th><th scope=col>&lt;dbl&gt;</th><th scope=col>&lt;fct&gt;</th><th scope=col>&lt;fct&gt;</th><th scope=col>&lt;fct&gt;</th><th scope=col>&lt;fct&gt;</th><th scope=col>&lt;lgl&gt;</th></tr>\n",
       "</thead>\n",
       "<tbody>\n",
       "\t<tr><td>0</td><td>56</td><td>0</td><td>2</td><td>140</td><td>294</td><td>0</td><td>2</td><td>153</td><td>0</td><td>1.3</td><td>2</td><td>1</td><td>2</td><td>0</td><td>FALSE</td></tr>\n",
       "\t<tr><td>0</td><td>64</td><td>1</td><td>1</td><td>110</td><td>211</td><td>0</td><td>2</td><td>144</td><td>1</td><td>1.8</td><td>2</td><td>1</td><td>2</td><td>0</td><td>FALSE</td></tr>\n",
       "\t<tr><td>0</td><td>43</td><td>1</td><td>4</td><td>150</td><td>247</td><td>0</td><td>0</td><td>171</td><td>0</td><td>1.5</td><td>1</td><td>1</td><td>2</td><td>0</td><td>FALSE</td></tr>\n",
       "\t<tr><td>0</td><td>69</td><td>0</td><td>1</td><td>140</td><td>239</td><td>0</td><td>0</td><td>151</td><td>0</td><td>1.8</td><td>1</td><td>3</td><td>2</td><td>0</td><td>FALSE</td></tr>\n",
       "\t<tr><td>0</td><td>59</td><td>1</td><td>4</td><td>135</td><td>234</td><td>0</td><td>0</td><td>161</td><td>0</td><td>0.5</td><td>2</td><td>1</td><td>3</td><td>0</td><td>FALSE</td></tr>\n",
       "\t<tr><td>0</td><td>42</td><td>1</td><td>4</td><td>140</td><td>226</td><td>0</td><td>0</td><td>178</td><td>0</td><td>0.0</td><td>1</td><td>1</td><td>2</td><td>0</td><td>FALSE</td></tr>\n",
       "\t<tr><td>3</td><td>57</td><td>1</td><td>4</td><td>150</td><td>276</td><td>0</td><td>2</td><td>112</td><td>1</td><td>0.6</td><td>2</td><td>4</td><td>1</td><td>1</td><td> TRUE</td></tr>\n",
       "\t<tr><td>1</td><td>61</td><td>1</td><td>3</td><td>150</td><td>243</td><td>1</td><td>0</td><td>137</td><td>1</td><td>1.0</td><td>2</td><td>1</td><td>2</td><td>0</td><td>FALSE</td></tr>\n",
       "\t<tr><td>0</td><td>41</td><td>0</td><td>2</td><td>105</td><td>198</td><td>0</td><td>0</td><td>168</td><td>0</td><td>0.0</td><td>1</td><td>4</td><td>2</td><td>0</td><td>FALSE</td></tr>\n",
       "\t<tr><td>0</td><td>65</td><td>1</td><td>4</td><td>120</td><td>177</td><td>0</td><td>0</td><td>140</td><td>0</td><td>0.4</td><td>1</td><td>1</td><td>3</td><td>0</td><td>FALSE</td></tr>\n",
       "\t<tr><td>0</td><td>41</td><td>1</td><td>4</td><td>110</td><td>172</td><td>0</td><td>2</td><td>158</td><td>0</td><td>0.0</td><td>1</td><td>1</td><td>3</td><td>1</td><td> TRUE</td></tr>\n",
       "\t<tr><td>0</td><td>51</td><td>1</td><td>1</td><td>125</td><td>213</td><td>0</td><td>2</td><td>125</td><td>1</td><td>1.4</td><td>1</td><td>4</td><td>2</td><td>0</td><td>FALSE</td></tr>\n",
       "\t<tr><td>0</td><td>54</td><td>0</td><td>3</td><td>135</td><td>304</td><td>1</td><td>0</td><td>170</td><td>0</td><td>0.0</td><td>1</td><td>1</td><td>2</td><td>0</td><td>FALSE</td></tr>\n",
       "\t<tr><td>0</td><td>60</td><td>1</td><td>3</td><td>140</td><td>185</td><td>0</td><td>2</td><td>155</td><td>0</td><td>3.0</td><td>2</td><td>1</td><td>2</td><td>1</td><td> TRUE</td></tr>\n",
       "\t<tr><td>0</td><td>54</td><td>1</td><td>3</td><td>150</td><td>232</td><td>0</td><td>2</td><td>165</td><td>0</td><td>1.6</td><td>1</td><td>1</td><td>3</td><td>0</td><td>FALSE</td></tr>\n",
       "\t<tr><td>0</td><td>44</td><td>1</td><td>4</td><td>110</td><td>197</td><td>0</td><td>2</td><td>177</td><td>0</td><td>0.0</td><td>1</td><td>4</td><td>2</td><td>1</td><td> TRUE</td></tr>\n",
       "\t<tr><td>0</td><td>65</td><td>0</td><td>3</td><td>160</td><td>360</td><td>0</td><td>2</td><td>151</td><td>0</td><td>0.8</td><td>1</td><td>1</td><td>2</td><td>0</td><td>FALSE</td></tr>\n",
       "\t<tr><td>0</td><td>48</td><td>1</td><td>2</td><td>130</td><td>245</td><td>0</td><td>2</td><td>180</td><td>0</td><td>0.2</td><td>2</td><td>1</td><td>2</td><td>0</td><td>FALSE</td></tr>\n",
       "\t<tr><td>0</td><td>45</td><td>1</td><td>4</td><td>104</td><td>208</td><td>0</td><td>2</td><td>148</td><td>1</td><td>3.0</td><td>2</td><td>1</td><td>2</td><td>0</td><td>FALSE</td></tr>\n",
       "\t<tr><td>0</td><td>68</td><td>1</td><td>3</td><td>180</td><td>274</td><td>1</td><td>2</td><td>150</td><td>1</td><td>1.6</td><td>2</td><td>1</td><td>3</td><td>3</td><td> TRUE</td></tr>\n",
       "\t<tr><td>0</td><td>60</td><td>0</td><td>4</td><td>150</td><td>258</td><td>0</td><td>2</td><td>157</td><td>0</td><td>2.6</td><td>2</td><td>3</td><td>3</td><td>3</td><td> TRUE</td></tr>\n",
       "\t<tr><td>1</td><td>61</td><td>1</td><td>4</td><td>120</td><td>260</td><td>0</td><td>0</td><td>140</td><td>1</td><td>3.6</td><td>2</td><td>4</td><td>3</td><td>2</td><td> TRUE</td></tr>\n",
       "\t<tr><td>0</td><td>63</td><td>0</td><td>4</td><td>150</td><td>407</td><td>0</td><td>2</td><td>154</td><td>0</td><td>4.0</td><td>2</td><td>2</td><td>3</td><td>4</td><td> TRUE</td></tr>\n",
       "\t<tr><td>0</td><td>55</td><td>1</td><td>4</td><td>140</td><td>217</td><td>0</td><td>0</td><td>111</td><td>1</td><td>5.6</td><td>3</td><td>1</td><td>3</td><td>3</td><td> TRUE</td></tr>\n",
       "\t<tr><td>0</td><td>45</td><td>0</td><td>2</td><td>130</td><td>234</td><td>0</td><td>2</td><td>175</td><td>0</td><td>0.6</td><td>2</td><td>1</td><td>2</td><td>0</td><td>FALSE</td></tr>\n",
       "\t<tr><td>0</td><td>56</td><td>0</td><td>4</td><td>200</td><td>288</td><td>1</td><td>2</td><td>133</td><td>1</td><td>4.0</td><td>3</td><td>3</td><td>3</td><td>3</td><td> TRUE</td></tr>\n",
       "\t<tr><td>0</td><td>54</td><td>1</td><td>4</td><td>110</td><td>239</td><td>0</td><td>0</td><td>126</td><td>1</td><td>2.8</td><td>2</td><td>4</td><td>3</td><td>3</td><td> TRUE</td></tr>\n",
       "\t<tr><td>1</td><td>54</td><td>1</td><td>3</td><td>120</td><td>258</td><td>0</td><td>2</td><td>147</td><td>0</td><td>0.4</td><td>2</td><td>1</td><td>3</td><td>0</td><td>FALSE</td></tr>\n",
       "\t<tr><td>0</td><td>51</td><td>1</td><td>3</td><td> 94</td><td>227</td><td>0</td><td>0</td><td>154</td><td>1</td><td>0.0</td><td>1</td><td>4</td><td>3</td><td>0</td><td>FALSE</td></tr>\n",
       "\t<tr><td>0</td><td>70</td><td>1</td><td>4</td><td>145</td><td>174</td><td>0</td><td>0</td><td>125</td><td>1</td><td>2.6</td><td>3</td><td>1</td><td>3</td><td>4</td><td> TRUE</td></tr>\n",
       "\t<tr><td>⋮</td><td>⋮</td><td>⋮</td><td>⋮</td><td>⋮</td><td>⋮</td><td>⋮</td><td>⋮</td><td>⋮</td><td>⋮</td><td>⋮</td><td>⋮</td><td>⋮</td><td>⋮</td><td>⋮</td><td>⋮</td></tr>\n",
       "\t<tr><td>2</td><td>51</td><td>1</td><td>4</td><td>140</td><td>298</td><td>0</td><td>0</td><td>122</td><td>1</td><td>4.2</td><td>2</td><td>2 </td><td>3 </td><td>3</td><td> TRUE</td></tr>\n",
       "\t<tr><td>1</td><td>43</td><td>1</td><td>4</td><td>132</td><td>247</td><td>1</td><td>2</td><td>143</td><td>1</td><td>0.1</td><td>2</td><td>NA</td><td>3 </td><td>1</td><td> TRUE</td></tr>\n",
       "\t<tr><td>2</td><td>69</td><td>1</td><td>1</td><td>160</td><td>234</td><td>1</td><td>2</td><td>131</td><td>0</td><td>0.1</td><td>2</td><td>4 </td><td>2 </td><td>0</td><td>FALSE</td></tr>\n",
       "\t<tr><td>0</td><td>45</td><td>0</td><td>4</td><td>138</td><td>236</td><td>0</td><td>2</td><td>152</td><td>1</td><td>0.2</td><td>2</td><td>1 </td><td>2 </td><td>0</td><td>FALSE</td></tr>\n",
       "\t<tr><td>0</td><td>57</td><td>1</td><td>3</td><td>150</td><td>126</td><td>1</td><td>0</td><td>173</td><td>0</td><td>0.2</td><td>1</td><td>4 </td><td>3 </td><td>0</td><td>FALSE</td></tr>\n",
       "\t<tr><td>0</td><td>58</td><td>1</td><td>4</td><td>128</td><td>259</td><td>0</td><td>2</td><td>130</td><td>1</td><td>3.0</td><td>2</td><td>3 </td><td>3 </td><td>3</td><td> TRUE</td></tr>\n",
       "\t<tr><td>0</td><td>37</td><td>0</td><td>3</td><td>120</td><td>215</td><td>0</td><td>0</td><td>170</td><td>0</td><td>0.0</td><td>1</td><td>1 </td><td>2 </td><td>0</td><td>FALSE</td></tr>\n",
       "\t<tr><td>0</td><td>56</td><td>1</td><td>1</td><td>120</td><td>193</td><td>0</td><td>2</td><td>162</td><td>0</td><td>1.9</td><td>2</td><td>1 </td><td>3 </td><td>0</td><td>FALSE</td></tr>\n",
       "\t<tr><td>0</td><td>46</td><td>0</td><td>2</td><td>105</td><td>204</td><td>0</td><td>0</td><td>172</td><td>0</td><td>0.0</td><td>1</td><td>1 </td><td>2 </td><td>0</td><td>FALSE</td></tr>\n",
       "\t<tr><td>0</td><td>41</td><td>0</td><td>3</td><td>112</td><td>268</td><td>0</td><td>2</td><td>172</td><td>1</td><td>0.0</td><td>1</td><td>1 </td><td>2 </td><td>0</td><td>FALSE</td></tr>\n",
       "\t<tr><td>0</td><td>63</td><td>0</td><td>4</td><td>108</td><td>269</td><td>0</td><td>0</td><td>169</td><td>1</td><td>1.8</td><td>2</td><td>3 </td><td>2 </td><td>1</td><td> TRUE</td></tr>\n",
       "\t<tr><td>0</td><td>34</td><td>0</td><td>2</td><td>118</td><td>210</td><td>0</td><td>0</td><td>192</td><td>0</td><td>0.7</td><td>1</td><td>1 </td><td>2 </td><td>0</td><td>FALSE</td></tr>\n",
       "\t<tr><td>0</td><td>47</td><td>1</td><td>4</td><td>112</td><td>204</td><td>0</td><td>0</td><td>143</td><td>0</td><td>0.1</td><td>1</td><td>1 </td><td>2 </td><td>0</td><td>FALSE</td></tr>\n",
       "\t<tr><td>0</td><td>54</td><td>0</td><td>3</td><td>160</td><td>201</td><td>0</td><td>0</td><td>163</td><td>0</td><td>0.0</td><td>1</td><td>4 </td><td>2 </td><td>0</td><td>FALSE</td></tr>\n",
       "\t<tr><td>0</td><td>61</td><td>1</td><td>1</td><td>134</td><td>234</td><td>0</td><td>0</td><td>145</td><td>0</td><td>2.6</td><td>2</td><td>3 </td><td>2 </td><td>2</td><td> TRUE</td></tr>\n",
       "\t<tr><td>3</td><td>67</td><td>1</td><td>4</td><td>120</td><td>237</td><td>0</td><td>0</td><td> 71</td><td>0</td><td>1.0</td><td>2</td><td>1 </td><td>2 </td><td>2</td><td> TRUE</td></tr>\n",
       "\t<tr><td>3</td><td>47</td><td>1</td><td>4</td><td>110</td><td>275</td><td>0</td><td>2</td><td>118</td><td>1</td><td>1.0</td><td>2</td><td>4 </td><td>2 </td><td>1</td><td> TRUE</td></tr>\n",
       "\t<tr><td>0</td><td>43</td><td>1</td><td>4</td><td>115</td><td>303</td><td>0</td><td>0</td><td>181</td><td>0</td><td>1.2</td><td>2</td><td>1 </td><td>2 </td><td>0</td><td>FALSE</td></tr>\n",
       "\t<tr><td>0</td><td>76</td><td>0</td><td>3</td><td>140</td><td>197</td><td>0</td><td>1</td><td>116</td><td>0</td><td>1.1</td><td>2</td><td>1 </td><td>2 </td><td>0</td><td>FALSE</td></tr>\n",
       "\t<tr><td>0</td><td>44</td><td>0</td><td>3</td><td>118</td><td>242</td><td>0</td><td>0</td><td>149</td><td>0</td><td>0.3</td><td>2</td><td>4 </td><td>2 </td><td>0</td><td>FALSE</td></tr>\n",
       "\t<tr><td>0</td><td>44</td><td>1</td><td>3</td><td>120</td><td>226</td><td>0</td><td>0</td><td>169</td><td>0</td><td>0.0</td><td>1</td><td>1 </td><td>2 </td><td>0</td><td>FALSE</td></tr>\n",
       "\t<tr><td>0</td><td>61</td><td>1</td><td>4</td><td>138</td><td>166</td><td>0</td><td>2</td><td>125</td><td>1</td><td>3.6</td><td>2</td><td>4 </td><td>2 </td><td>4</td><td> TRUE</td></tr>\n",
       "\t<tr><td>0</td><td>52</td><td>1</td><td>4</td><td>128</td><td>204</td><td>1</td><td>0</td><td>156</td><td>1</td><td>1.0</td><td>2</td><td>1 </td><td>NA</td><td>2</td><td> TRUE</td></tr>\n",
       "\t<tr><td>0</td><td>56</td><td>1</td><td>2</td><td>120</td><td>240</td><td>0</td><td>0</td><td>169</td><td>0</td><td>0.0</td><td>3</td><td>1 </td><td>2 </td><td>0</td><td>FALSE</td></tr>\n",
       "\t<tr><td>0</td><td>67</td><td>1</td><td>3</td><td>152</td><td>212</td><td>0</td><td>2</td><td>150</td><td>0</td><td>0.8</td><td>2</td><td>1 </td><td>3 </td><td>1</td><td> TRUE</td></tr>\n",
       "\t<tr><td>0</td><td>55</td><td>0</td><td>2</td><td>132</td><td>342</td><td>0</td><td>0</td><td>166</td><td>0</td><td>1.2</td><td>1</td><td>1 </td><td>2 </td><td>0</td><td>FALSE</td></tr>\n",
       "\t<tr><td>0</td><td>44</td><td>1</td><td>4</td><td>120</td><td>169</td><td>0</td><td>0</td><td>144</td><td>1</td><td>2.8</td><td>3</td><td>1 </td><td>1 </td><td>2</td><td> TRUE</td></tr>\n",
       "\t<tr><td>0</td><td>63</td><td>1</td><td>4</td><td>140</td><td>187</td><td>0</td><td>2</td><td>144</td><td>1</td><td>4.0</td><td>1</td><td>3 </td><td>3 </td><td>2</td><td> TRUE</td></tr>\n",
       "\t<tr><td>0</td><td>45</td><td>1</td><td>1</td><td>110</td><td>264</td><td>0</td><td>0</td><td>132</td><td>0</td><td>1.2</td><td>2</td><td>1 </td><td>3 </td><td>1</td><td> TRUE</td></tr>\n",
       "\t<tr><td>0</td><td>57</td><td>0</td><td>2</td><td>130</td><td>236</td><td>0</td><td>2</td><td>174</td><td>0</td><td>0.0</td><td>2</td><td>4 </td><td>2 </td><td>1</td><td> TRUE</td></tr>\n",
       "</tbody>\n",
       "</table>\n"
      ],
      "text/latex": [
       "A tibble: 75 × 16\n",
       "\\begin{tabular}{llllllllllllllll}\n",
       " .pred\\_class & age & sex & cp & trestbps & chol & fbs & restecg & thalach & exang & oldpeak & slope & ca & thal & num & diag\\\\\n",
       " <fct> & <dbl> & <fct> & <fct> & <dbl> & <dbl> & <fct> & <fct> & <dbl> & <fct> & <dbl> & <fct> & <fct> & <fct> & <fct> & <lgl>\\\\\n",
       "\\hline\n",
       "\t 0 & 56 & 0 & 2 & 140 & 294 & 0 & 2 & 153 & 0 & 1.3 & 2 & 1 & 2 & 0 & FALSE\\\\\n",
       "\t 0 & 64 & 1 & 1 & 110 & 211 & 0 & 2 & 144 & 1 & 1.8 & 2 & 1 & 2 & 0 & FALSE\\\\\n",
       "\t 0 & 43 & 1 & 4 & 150 & 247 & 0 & 0 & 171 & 0 & 1.5 & 1 & 1 & 2 & 0 & FALSE\\\\\n",
       "\t 0 & 69 & 0 & 1 & 140 & 239 & 0 & 0 & 151 & 0 & 1.8 & 1 & 3 & 2 & 0 & FALSE\\\\\n",
       "\t 0 & 59 & 1 & 4 & 135 & 234 & 0 & 0 & 161 & 0 & 0.5 & 2 & 1 & 3 & 0 & FALSE\\\\\n",
       "\t 0 & 42 & 1 & 4 & 140 & 226 & 0 & 0 & 178 & 0 & 0.0 & 1 & 1 & 2 & 0 & FALSE\\\\\n",
       "\t 3 & 57 & 1 & 4 & 150 & 276 & 0 & 2 & 112 & 1 & 0.6 & 2 & 4 & 1 & 1 &  TRUE\\\\\n",
       "\t 1 & 61 & 1 & 3 & 150 & 243 & 1 & 0 & 137 & 1 & 1.0 & 2 & 1 & 2 & 0 & FALSE\\\\\n",
       "\t 0 & 41 & 0 & 2 & 105 & 198 & 0 & 0 & 168 & 0 & 0.0 & 1 & 4 & 2 & 0 & FALSE\\\\\n",
       "\t 0 & 65 & 1 & 4 & 120 & 177 & 0 & 0 & 140 & 0 & 0.4 & 1 & 1 & 3 & 0 & FALSE\\\\\n",
       "\t 0 & 41 & 1 & 4 & 110 & 172 & 0 & 2 & 158 & 0 & 0.0 & 1 & 1 & 3 & 1 &  TRUE\\\\\n",
       "\t 0 & 51 & 1 & 1 & 125 & 213 & 0 & 2 & 125 & 1 & 1.4 & 1 & 4 & 2 & 0 & FALSE\\\\\n",
       "\t 0 & 54 & 0 & 3 & 135 & 304 & 1 & 0 & 170 & 0 & 0.0 & 1 & 1 & 2 & 0 & FALSE\\\\\n",
       "\t 0 & 60 & 1 & 3 & 140 & 185 & 0 & 2 & 155 & 0 & 3.0 & 2 & 1 & 2 & 1 &  TRUE\\\\\n",
       "\t 0 & 54 & 1 & 3 & 150 & 232 & 0 & 2 & 165 & 0 & 1.6 & 1 & 1 & 3 & 0 & FALSE\\\\\n",
       "\t 0 & 44 & 1 & 4 & 110 & 197 & 0 & 2 & 177 & 0 & 0.0 & 1 & 4 & 2 & 1 &  TRUE\\\\\n",
       "\t 0 & 65 & 0 & 3 & 160 & 360 & 0 & 2 & 151 & 0 & 0.8 & 1 & 1 & 2 & 0 & FALSE\\\\\n",
       "\t 0 & 48 & 1 & 2 & 130 & 245 & 0 & 2 & 180 & 0 & 0.2 & 2 & 1 & 2 & 0 & FALSE\\\\\n",
       "\t 0 & 45 & 1 & 4 & 104 & 208 & 0 & 2 & 148 & 1 & 3.0 & 2 & 1 & 2 & 0 & FALSE\\\\\n",
       "\t 0 & 68 & 1 & 3 & 180 & 274 & 1 & 2 & 150 & 1 & 1.6 & 2 & 1 & 3 & 3 &  TRUE\\\\\n",
       "\t 0 & 60 & 0 & 4 & 150 & 258 & 0 & 2 & 157 & 0 & 2.6 & 2 & 3 & 3 & 3 &  TRUE\\\\\n",
       "\t 1 & 61 & 1 & 4 & 120 & 260 & 0 & 0 & 140 & 1 & 3.6 & 2 & 4 & 3 & 2 &  TRUE\\\\\n",
       "\t 0 & 63 & 0 & 4 & 150 & 407 & 0 & 2 & 154 & 0 & 4.0 & 2 & 2 & 3 & 4 &  TRUE\\\\\n",
       "\t 0 & 55 & 1 & 4 & 140 & 217 & 0 & 0 & 111 & 1 & 5.6 & 3 & 1 & 3 & 3 &  TRUE\\\\\n",
       "\t 0 & 45 & 0 & 2 & 130 & 234 & 0 & 2 & 175 & 0 & 0.6 & 2 & 1 & 2 & 0 & FALSE\\\\\n",
       "\t 0 & 56 & 0 & 4 & 200 & 288 & 1 & 2 & 133 & 1 & 4.0 & 3 & 3 & 3 & 3 &  TRUE\\\\\n",
       "\t 0 & 54 & 1 & 4 & 110 & 239 & 0 & 0 & 126 & 1 & 2.8 & 2 & 4 & 3 & 3 &  TRUE\\\\\n",
       "\t 1 & 54 & 1 & 3 & 120 & 258 & 0 & 2 & 147 & 0 & 0.4 & 2 & 1 & 3 & 0 & FALSE\\\\\n",
       "\t 0 & 51 & 1 & 3 &  94 & 227 & 0 & 0 & 154 & 1 & 0.0 & 1 & 4 & 3 & 0 & FALSE\\\\\n",
       "\t 0 & 70 & 1 & 4 & 145 & 174 & 0 & 0 & 125 & 1 & 2.6 & 3 & 1 & 3 & 4 &  TRUE\\\\\n",
       "\t ⋮ & ⋮ & ⋮ & ⋮ & ⋮ & ⋮ & ⋮ & ⋮ & ⋮ & ⋮ & ⋮ & ⋮ & ⋮ & ⋮ & ⋮ & ⋮\\\\\n",
       "\t 2 & 51 & 1 & 4 & 140 & 298 & 0 & 0 & 122 & 1 & 4.2 & 2 & 2  & 3  & 3 &  TRUE\\\\\n",
       "\t 1 & 43 & 1 & 4 & 132 & 247 & 1 & 2 & 143 & 1 & 0.1 & 2 & NA & 3  & 1 &  TRUE\\\\\n",
       "\t 2 & 69 & 1 & 1 & 160 & 234 & 1 & 2 & 131 & 0 & 0.1 & 2 & 4  & 2  & 0 & FALSE\\\\\n",
       "\t 0 & 45 & 0 & 4 & 138 & 236 & 0 & 2 & 152 & 1 & 0.2 & 2 & 1  & 2  & 0 & FALSE\\\\\n",
       "\t 0 & 57 & 1 & 3 & 150 & 126 & 1 & 0 & 173 & 0 & 0.2 & 1 & 4  & 3  & 0 & FALSE\\\\\n",
       "\t 0 & 58 & 1 & 4 & 128 & 259 & 0 & 2 & 130 & 1 & 3.0 & 2 & 3  & 3  & 3 &  TRUE\\\\\n",
       "\t 0 & 37 & 0 & 3 & 120 & 215 & 0 & 0 & 170 & 0 & 0.0 & 1 & 1  & 2  & 0 & FALSE\\\\\n",
       "\t 0 & 56 & 1 & 1 & 120 & 193 & 0 & 2 & 162 & 0 & 1.9 & 2 & 1  & 3  & 0 & FALSE\\\\\n",
       "\t 0 & 46 & 0 & 2 & 105 & 204 & 0 & 0 & 172 & 0 & 0.0 & 1 & 1  & 2  & 0 & FALSE\\\\\n",
       "\t 0 & 41 & 0 & 3 & 112 & 268 & 0 & 2 & 172 & 1 & 0.0 & 1 & 1  & 2  & 0 & FALSE\\\\\n",
       "\t 0 & 63 & 0 & 4 & 108 & 269 & 0 & 0 & 169 & 1 & 1.8 & 2 & 3  & 2  & 1 &  TRUE\\\\\n",
       "\t 0 & 34 & 0 & 2 & 118 & 210 & 0 & 0 & 192 & 0 & 0.7 & 1 & 1  & 2  & 0 & FALSE\\\\\n",
       "\t 0 & 47 & 1 & 4 & 112 & 204 & 0 & 0 & 143 & 0 & 0.1 & 1 & 1  & 2  & 0 & FALSE\\\\\n",
       "\t 0 & 54 & 0 & 3 & 160 & 201 & 0 & 0 & 163 & 0 & 0.0 & 1 & 4  & 2  & 0 & FALSE\\\\\n",
       "\t 0 & 61 & 1 & 1 & 134 & 234 & 0 & 0 & 145 & 0 & 2.6 & 2 & 3  & 2  & 2 &  TRUE\\\\\n",
       "\t 3 & 67 & 1 & 4 & 120 & 237 & 0 & 0 &  71 & 0 & 1.0 & 2 & 1  & 2  & 2 &  TRUE\\\\\n",
       "\t 3 & 47 & 1 & 4 & 110 & 275 & 0 & 2 & 118 & 1 & 1.0 & 2 & 4  & 2  & 1 &  TRUE\\\\\n",
       "\t 0 & 43 & 1 & 4 & 115 & 303 & 0 & 0 & 181 & 0 & 1.2 & 2 & 1  & 2  & 0 & FALSE\\\\\n",
       "\t 0 & 76 & 0 & 3 & 140 & 197 & 0 & 1 & 116 & 0 & 1.1 & 2 & 1  & 2  & 0 & FALSE\\\\\n",
       "\t 0 & 44 & 0 & 3 & 118 & 242 & 0 & 0 & 149 & 0 & 0.3 & 2 & 4  & 2  & 0 & FALSE\\\\\n",
       "\t 0 & 44 & 1 & 3 & 120 & 226 & 0 & 0 & 169 & 0 & 0.0 & 1 & 1  & 2  & 0 & FALSE\\\\\n",
       "\t 0 & 61 & 1 & 4 & 138 & 166 & 0 & 2 & 125 & 1 & 3.6 & 2 & 4  & 2  & 4 &  TRUE\\\\\n",
       "\t 0 & 52 & 1 & 4 & 128 & 204 & 1 & 0 & 156 & 1 & 1.0 & 2 & 1  & NA & 2 &  TRUE\\\\\n",
       "\t 0 & 56 & 1 & 2 & 120 & 240 & 0 & 0 & 169 & 0 & 0.0 & 3 & 1  & 2  & 0 & FALSE\\\\\n",
       "\t 0 & 67 & 1 & 3 & 152 & 212 & 0 & 2 & 150 & 0 & 0.8 & 2 & 1  & 3  & 1 &  TRUE\\\\\n",
       "\t 0 & 55 & 0 & 2 & 132 & 342 & 0 & 0 & 166 & 0 & 1.2 & 1 & 1  & 2  & 0 & FALSE\\\\\n",
       "\t 0 & 44 & 1 & 4 & 120 & 169 & 0 & 0 & 144 & 1 & 2.8 & 3 & 1  & 1  & 2 &  TRUE\\\\\n",
       "\t 0 & 63 & 1 & 4 & 140 & 187 & 0 & 2 & 144 & 1 & 4.0 & 1 & 3  & 3  & 2 &  TRUE\\\\\n",
       "\t 0 & 45 & 1 & 1 & 110 & 264 & 0 & 0 & 132 & 0 & 1.2 & 2 & 1  & 3  & 1 &  TRUE\\\\\n",
       "\t 0 & 57 & 0 & 2 & 130 & 236 & 0 & 2 & 174 & 0 & 0.0 & 2 & 4  & 2  & 1 &  TRUE\\\\\n",
       "\\end{tabular}\n"
      ],
      "text/markdown": [
       "\n",
       "A tibble: 75 × 16\n",
       "\n",
       "| .pred_class &lt;fct&gt; | age &lt;dbl&gt; | sex &lt;fct&gt; | cp &lt;fct&gt; | trestbps &lt;dbl&gt; | chol &lt;dbl&gt; | fbs &lt;fct&gt; | restecg &lt;fct&gt; | thalach &lt;dbl&gt; | exang &lt;fct&gt; | oldpeak &lt;dbl&gt; | slope &lt;fct&gt; | ca &lt;fct&gt; | thal &lt;fct&gt; | num &lt;fct&gt; | diag &lt;lgl&gt; |\n",
       "|---|---|---|---|---|---|---|---|---|---|---|---|---|---|---|---|\n",
       "| 0 | 56 | 0 | 2 | 140 | 294 | 0 | 2 | 153 | 0 | 1.3 | 2 | 1 | 2 | 0 | FALSE |\n",
       "| 0 | 64 | 1 | 1 | 110 | 211 | 0 | 2 | 144 | 1 | 1.8 | 2 | 1 | 2 | 0 | FALSE |\n",
       "| 0 | 43 | 1 | 4 | 150 | 247 | 0 | 0 | 171 | 0 | 1.5 | 1 | 1 | 2 | 0 | FALSE |\n",
       "| 0 | 69 | 0 | 1 | 140 | 239 | 0 | 0 | 151 | 0 | 1.8 | 1 | 3 | 2 | 0 | FALSE |\n",
       "| 0 | 59 | 1 | 4 | 135 | 234 | 0 | 0 | 161 | 0 | 0.5 | 2 | 1 | 3 | 0 | FALSE |\n",
       "| 0 | 42 | 1 | 4 | 140 | 226 | 0 | 0 | 178 | 0 | 0.0 | 1 | 1 | 2 | 0 | FALSE |\n",
       "| 3 | 57 | 1 | 4 | 150 | 276 | 0 | 2 | 112 | 1 | 0.6 | 2 | 4 | 1 | 1 |  TRUE |\n",
       "| 1 | 61 | 1 | 3 | 150 | 243 | 1 | 0 | 137 | 1 | 1.0 | 2 | 1 | 2 | 0 | FALSE |\n",
       "| 0 | 41 | 0 | 2 | 105 | 198 | 0 | 0 | 168 | 0 | 0.0 | 1 | 4 | 2 | 0 | FALSE |\n",
       "| 0 | 65 | 1 | 4 | 120 | 177 | 0 | 0 | 140 | 0 | 0.4 | 1 | 1 | 3 | 0 | FALSE |\n",
       "| 0 | 41 | 1 | 4 | 110 | 172 | 0 | 2 | 158 | 0 | 0.0 | 1 | 1 | 3 | 1 |  TRUE |\n",
       "| 0 | 51 | 1 | 1 | 125 | 213 | 0 | 2 | 125 | 1 | 1.4 | 1 | 4 | 2 | 0 | FALSE |\n",
       "| 0 | 54 | 0 | 3 | 135 | 304 | 1 | 0 | 170 | 0 | 0.0 | 1 | 1 | 2 | 0 | FALSE |\n",
       "| 0 | 60 | 1 | 3 | 140 | 185 | 0 | 2 | 155 | 0 | 3.0 | 2 | 1 | 2 | 1 |  TRUE |\n",
       "| 0 | 54 | 1 | 3 | 150 | 232 | 0 | 2 | 165 | 0 | 1.6 | 1 | 1 | 3 | 0 | FALSE |\n",
       "| 0 | 44 | 1 | 4 | 110 | 197 | 0 | 2 | 177 | 0 | 0.0 | 1 | 4 | 2 | 1 |  TRUE |\n",
       "| 0 | 65 | 0 | 3 | 160 | 360 | 0 | 2 | 151 | 0 | 0.8 | 1 | 1 | 2 | 0 | FALSE |\n",
       "| 0 | 48 | 1 | 2 | 130 | 245 | 0 | 2 | 180 | 0 | 0.2 | 2 | 1 | 2 | 0 | FALSE |\n",
       "| 0 | 45 | 1 | 4 | 104 | 208 | 0 | 2 | 148 | 1 | 3.0 | 2 | 1 | 2 | 0 | FALSE |\n",
       "| 0 | 68 | 1 | 3 | 180 | 274 | 1 | 2 | 150 | 1 | 1.6 | 2 | 1 | 3 | 3 |  TRUE |\n",
       "| 0 | 60 | 0 | 4 | 150 | 258 | 0 | 2 | 157 | 0 | 2.6 | 2 | 3 | 3 | 3 |  TRUE |\n",
       "| 1 | 61 | 1 | 4 | 120 | 260 | 0 | 0 | 140 | 1 | 3.6 | 2 | 4 | 3 | 2 |  TRUE |\n",
       "| 0 | 63 | 0 | 4 | 150 | 407 | 0 | 2 | 154 | 0 | 4.0 | 2 | 2 | 3 | 4 |  TRUE |\n",
       "| 0 | 55 | 1 | 4 | 140 | 217 | 0 | 0 | 111 | 1 | 5.6 | 3 | 1 | 3 | 3 |  TRUE |\n",
       "| 0 | 45 | 0 | 2 | 130 | 234 | 0 | 2 | 175 | 0 | 0.6 | 2 | 1 | 2 | 0 | FALSE |\n",
       "| 0 | 56 | 0 | 4 | 200 | 288 | 1 | 2 | 133 | 1 | 4.0 | 3 | 3 | 3 | 3 |  TRUE |\n",
       "| 0 | 54 | 1 | 4 | 110 | 239 | 0 | 0 | 126 | 1 | 2.8 | 2 | 4 | 3 | 3 |  TRUE |\n",
       "| 1 | 54 | 1 | 3 | 120 | 258 | 0 | 2 | 147 | 0 | 0.4 | 2 | 1 | 3 | 0 | FALSE |\n",
       "| 0 | 51 | 1 | 3 |  94 | 227 | 0 | 0 | 154 | 1 | 0.0 | 1 | 4 | 3 | 0 | FALSE |\n",
       "| 0 | 70 | 1 | 4 | 145 | 174 | 0 | 0 | 125 | 1 | 2.6 | 3 | 1 | 3 | 4 |  TRUE |\n",
       "| ⋮ | ⋮ | ⋮ | ⋮ | ⋮ | ⋮ | ⋮ | ⋮ | ⋮ | ⋮ | ⋮ | ⋮ | ⋮ | ⋮ | ⋮ | ⋮ |\n",
       "| 2 | 51 | 1 | 4 | 140 | 298 | 0 | 0 | 122 | 1 | 4.2 | 2 | 2  | 3  | 3 |  TRUE |\n",
       "| 1 | 43 | 1 | 4 | 132 | 247 | 1 | 2 | 143 | 1 | 0.1 | 2 | NA | 3  | 1 |  TRUE |\n",
       "| 2 | 69 | 1 | 1 | 160 | 234 | 1 | 2 | 131 | 0 | 0.1 | 2 | 4  | 2  | 0 | FALSE |\n",
       "| 0 | 45 | 0 | 4 | 138 | 236 | 0 | 2 | 152 | 1 | 0.2 | 2 | 1  | 2  | 0 | FALSE |\n",
       "| 0 | 57 | 1 | 3 | 150 | 126 | 1 | 0 | 173 | 0 | 0.2 | 1 | 4  | 3  | 0 | FALSE |\n",
       "| 0 | 58 | 1 | 4 | 128 | 259 | 0 | 2 | 130 | 1 | 3.0 | 2 | 3  | 3  | 3 |  TRUE |\n",
       "| 0 | 37 | 0 | 3 | 120 | 215 | 0 | 0 | 170 | 0 | 0.0 | 1 | 1  | 2  | 0 | FALSE |\n",
       "| 0 | 56 | 1 | 1 | 120 | 193 | 0 | 2 | 162 | 0 | 1.9 | 2 | 1  | 3  | 0 | FALSE |\n",
       "| 0 | 46 | 0 | 2 | 105 | 204 | 0 | 0 | 172 | 0 | 0.0 | 1 | 1  | 2  | 0 | FALSE |\n",
       "| 0 | 41 | 0 | 3 | 112 | 268 | 0 | 2 | 172 | 1 | 0.0 | 1 | 1  | 2  | 0 | FALSE |\n",
       "| 0 | 63 | 0 | 4 | 108 | 269 | 0 | 0 | 169 | 1 | 1.8 | 2 | 3  | 2  | 1 |  TRUE |\n",
       "| 0 | 34 | 0 | 2 | 118 | 210 | 0 | 0 | 192 | 0 | 0.7 | 1 | 1  | 2  | 0 | FALSE |\n",
       "| 0 | 47 | 1 | 4 | 112 | 204 | 0 | 0 | 143 | 0 | 0.1 | 1 | 1  | 2  | 0 | FALSE |\n",
       "| 0 | 54 | 0 | 3 | 160 | 201 | 0 | 0 | 163 | 0 | 0.0 | 1 | 4  | 2  | 0 | FALSE |\n",
       "| 0 | 61 | 1 | 1 | 134 | 234 | 0 | 0 | 145 | 0 | 2.6 | 2 | 3  | 2  | 2 |  TRUE |\n",
       "| 3 | 67 | 1 | 4 | 120 | 237 | 0 | 0 |  71 | 0 | 1.0 | 2 | 1  | 2  | 2 |  TRUE |\n",
       "| 3 | 47 | 1 | 4 | 110 | 275 | 0 | 2 | 118 | 1 | 1.0 | 2 | 4  | 2  | 1 |  TRUE |\n",
       "| 0 | 43 | 1 | 4 | 115 | 303 | 0 | 0 | 181 | 0 | 1.2 | 2 | 1  | 2  | 0 | FALSE |\n",
       "| 0 | 76 | 0 | 3 | 140 | 197 | 0 | 1 | 116 | 0 | 1.1 | 2 | 1  | 2  | 0 | FALSE |\n",
       "| 0 | 44 | 0 | 3 | 118 | 242 | 0 | 0 | 149 | 0 | 0.3 | 2 | 4  | 2  | 0 | FALSE |\n",
       "| 0 | 44 | 1 | 3 | 120 | 226 | 0 | 0 | 169 | 0 | 0.0 | 1 | 1  | 2  | 0 | FALSE |\n",
       "| 0 | 61 | 1 | 4 | 138 | 166 | 0 | 2 | 125 | 1 | 3.6 | 2 | 4  | 2  | 4 |  TRUE |\n",
       "| 0 | 52 | 1 | 4 | 128 | 204 | 1 | 0 | 156 | 1 | 1.0 | 2 | 1  | NA | 2 |  TRUE |\n",
       "| 0 | 56 | 1 | 2 | 120 | 240 | 0 | 0 | 169 | 0 | 0.0 | 3 | 1  | 2  | 0 | FALSE |\n",
       "| 0 | 67 | 1 | 3 | 152 | 212 | 0 | 2 | 150 | 0 | 0.8 | 2 | 1  | 3  | 1 |  TRUE |\n",
       "| 0 | 55 | 0 | 2 | 132 | 342 | 0 | 0 | 166 | 0 | 1.2 | 1 | 1  | 2  | 0 | FALSE |\n",
       "| 0 | 44 | 1 | 4 | 120 | 169 | 0 | 0 | 144 | 1 | 2.8 | 3 | 1  | 1  | 2 |  TRUE |\n",
       "| 0 | 63 | 1 | 4 | 140 | 187 | 0 | 2 | 144 | 1 | 4.0 | 1 | 3  | 3  | 2 |  TRUE |\n",
       "| 0 | 45 | 1 | 1 | 110 | 264 | 0 | 0 | 132 | 0 | 1.2 | 2 | 1  | 3  | 1 |  TRUE |\n",
       "| 0 | 57 | 0 | 2 | 130 | 236 | 0 | 2 | 174 | 0 | 0.0 | 2 | 4  | 2  | 1 |  TRUE |\n",
       "\n"
      ],
      "text/plain": [
       "   .pred_class age sex cp trestbps chol fbs restecg thalach exang oldpeak slope\n",
       "1  0           56  0   2  140      294  0   2       153     0     1.3     2    \n",
       "2  0           64  1   1  110      211  0   2       144     1     1.8     2    \n",
       "3  0           43  1   4  150      247  0   0       171     0     1.5     1    \n",
       "4  0           69  0   1  140      239  0   0       151     0     1.8     1    \n",
       "5  0           59  1   4  135      234  0   0       161     0     0.5     2    \n",
       "6  0           42  1   4  140      226  0   0       178     0     0.0     1    \n",
       "7  3           57  1   4  150      276  0   2       112     1     0.6     2    \n",
       "8  1           61  1   3  150      243  1   0       137     1     1.0     2    \n",
       "9  0           41  0   2  105      198  0   0       168     0     0.0     1    \n",
       "10 0           65  1   4  120      177  0   0       140     0     0.4     1    \n",
       "11 0           41  1   4  110      172  0   2       158     0     0.0     1    \n",
       "12 0           51  1   1  125      213  0   2       125     1     1.4     1    \n",
       "13 0           54  0   3  135      304  1   0       170     0     0.0     1    \n",
       "14 0           60  1   3  140      185  0   2       155     0     3.0     2    \n",
       "15 0           54  1   3  150      232  0   2       165     0     1.6     1    \n",
       "16 0           44  1   4  110      197  0   2       177     0     0.0     1    \n",
       "17 0           65  0   3  160      360  0   2       151     0     0.8     1    \n",
       "18 0           48  1   2  130      245  0   2       180     0     0.2     2    \n",
       "19 0           45  1   4  104      208  0   2       148     1     3.0     2    \n",
       "20 0           68  1   3  180      274  1   2       150     1     1.6     2    \n",
       "21 0           60  0   4  150      258  0   2       157     0     2.6     2    \n",
       "22 1           61  1   4  120      260  0   0       140     1     3.6     2    \n",
       "23 0           63  0   4  150      407  0   2       154     0     4.0     2    \n",
       "24 0           55  1   4  140      217  0   0       111     1     5.6     3    \n",
       "25 0           45  0   2  130      234  0   2       175     0     0.6     2    \n",
       "26 0           56  0   4  200      288  1   2       133     1     4.0     3    \n",
       "27 0           54  1   4  110      239  0   0       126     1     2.8     2    \n",
       "28 1           54  1   3  120      258  0   2       147     0     0.4     2    \n",
       "29 0           51  1   3   94      227  0   0       154     1     0.0     1    \n",
       "30 0           70  1   4  145      174  0   0       125     1     2.6     3    \n",
       "⋮  ⋮           ⋮   ⋮   ⋮  ⋮        ⋮    ⋮   ⋮       ⋮       ⋮     ⋮       ⋮    \n",
       "46 2           51  1   4  140      298  0   0       122     1     4.2     2    \n",
       "47 1           43  1   4  132      247  1   2       143     1     0.1     2    \n",
       "48 2           69  1   1  160      234  1   2       131     0     0.1     2    \n",
       "49 0           45  0   4  138      236  0   2       152     1     0.2     2    \n",
       "50 0           57  1   3  150      126  1   0       173     0     0.2     1    \n",
       "51 0           58  1   4  128      259  0   2       130     1     3.0     2    \n",
       "52 0           37  0   3  120      215  0   0       170     0     0.0     1    \n",
       "53 0           56  1   1  120      193  0   2       162     0     1.9     2    \n",
       "54 0           46  0   2  105      204  0   0       172     0     0.0     1    \n",
       "55 0           41  0   3  112      268  0   2       172     1     0.0     1    \n",
       "56 0           63  0   4  108      269  0   0       169     1     1.8     2    \n",
       "57 0           34  0   2  118      210  0   0       192     0     0.7     1    \n",
       "58 0           47  1   4  112      204  0   0       143     0     0.1     1    \n",
       "59 0           54  0   3  160      201  0   0       163     0     0.0     1    \n",
       "60 0           61  1   1  134      234  0   0       145     0     2.6     2    \n",
       "61 3           67  1   4  120      237  0   0        71     0     1.0     2    \n",
       "62 3           47  1   4  110      275  0   2       118     1     1.0     2    \n",
       "63 0           43  1   4  115      303  0   0       181     0     1.2     2    \n",
       "64 0           76  0   3  140      197  0   1       116     0     1.1     2    \n",
       "65 0           44  0   3  118      242  0   0       149     0     0.3     2    \n",
       "66 0           44  1   3  120      226  0   0       169     0     0.0     1    \n",
       "67 0           61  1   4  138      166  0   2       125     1     3.6     2    \n",
       "68 0           52  1   4  128      204  1   0       156     1     1.0     2    \n",
       "69 0           56  1   2  120      240  0   0       169     0     0.0     3    \n",
       "70 0           67  1   3  152      212  0   2       150     0     0.8     2    \n",
       "71 0           55  0   2  132      342  0   0       166     0     1.2     1    \n",
       "72 0           44  1   4  120      169  0   0       144     1     2.8     3    \n",
       "73 0           63  1   4  140      187  0   2       144     1     4.0     1    \n",
       "74 0           45  1   1  110      264  0   0       132     0     1.2     2    \n",
       "75 0           57  0   2  130      236  0   2       174     0     0.0     2    \n",
       "   ca thal num diag \n",
       "1  1  2    0   FALSE\n",
       "2  1  2    0   FALSE\n",
       "3  1  2    0   FALSE\n",
       "4  3  2    0   FALSE\n",
       "5  1  3    0   FALSE\n",
       "6  1  2    0   FALSE\n",
       "7  4  1    1    TRUE\n",
       "8  1  2    0   FALSE\n",
       "9  4  2    0   FALSE\n",
       "10 1  3    0   FALSE\n",
       "11 1  3    1    TRUE\n",
       "12 4  2    0   FALSE\n",
       "13 1  2    0   FALSE\n",
       "14 1  2    1    TRUE\n",
       "15 1  3    0   FALSE\n",
       "16 4  2    1    TRUE\n",
       "17 1  2    0   FALSE\n",
       "18 1  2    0   FALSE\n",
       "19 1  2    0   FALSE\n",
       "20 1  3    3    TRUE\n",
       "21 3  3    3    TRUE\n",
       "22 4  3    2    TRUE\n",
       "23 2  3    4    TRUE\n",
       "24 1  3    3    TRUE\n",
       "25 1  2    0   FALSE\n",
       "26 3  3    3    TRUE\n",
       "27 4  3    3    TRUE\n",
       "28 1  3    0   FALSE\n",
       "29 4  3    0   FALSE\n",
       "30 1  3    4    TRUE\n",
       "⋮  ⋮  ⋮    ⋮   ⋮    \n",
       "46 2  3    3    TRUE\n",
       "47 NA 3    1    TRUE\n",
       "48 4  2    0   FALSE\n",
       "49 1  2    0   FALSE\n",
       "50 4  3    0   FALSE\n",
       "51 3  3    3    TRUE\n",
       "52 1  2    0   FALSE\n",
       "53 1  3    0   FALSE\n",
       "54 1  2    0   FALSE\n",
       "55 1  2    0   FALSE\n",
       "56 3  2    1    TRUE\n",
       "57 1  2    0   FALSE\n",
       "58 1  2    0   FALSE\n",
       "59 4  2    0   FALSE\n",
       "60 3  2    2    TRUE\n",
       "61 1  2    2    TRUE\n",
       "62 4  2    1    TRUE\n",
       "63 1  2    0   FALSE\n",
       "64 1  2    0   FALSE\n",
       "65 4  2    0   FALSE\n",
       "66 1  2    0   FALSE\n",
       "67 4  2    4    TRUE\n",
       "68 1  NA   2    TRUE\n",
       "69 1  2    0   FALSE\n",
       "70 1  3    1    TRUE\n",
       "71 1  2    0   FALSE\n",
       "72 1  1    2    TRUE\n",
       "73 3  3    2    TRUE\n",
       "74 1  3    1    TRUE\n",
       "75 4  2    1    TRUE"
      ]
     },
     "metadata": {},
     "output_type": "display_data"
    },
    {
     "data": {
      "text/html": [
       "<table>\n",
       "<caption>A tibble: 2 × 3</caption>\n",
       "<thead>\n",
       "\t<tr><th scope=col>.metric</th><th scope=col>.estimator</th><th scope=col>.estimate</th></tr>\n",
       "\t<tr><th scope=col>&lt;chr&gt;</th><th scope=col>&lt;chr&gt;</th><th scope=col>&lt;dbl&gt;</th></tr>\n",
       "</thead>\n",
       "<tbody>\n",
       "\t<tr><td>accuracy</td><td>multiclass</td><td>0.53333333</td></tr>\n",
       "\t<tr><td>kap     </td><td>multiclass</td><td>0.09917639</td></tr>\n",
       "</tbody>\n",
       "</table>\n"
      ],
      "text/latex": [
       "A tibble: 2 × 3\n",
       "\\begin{tabular}{lll}\n",
       " .metric & .estimator & .estimate\\\\\n",
       " <chr> & <chr> & <dbl>\\\\\n",
       "\\hline\n",
       "\t accuracy & multiclass & 0.53333333\\\\\n",
       "\t kap      & multiclass & 0.09917639\\\\\n",
       "\\end{tabular}\n"
      ],
      "text/markdown": [
       "\n",
       "A tibble: 2 × 3\n",
       "\n",
       "| .metric &lt;chr&gt; | .estimator &lt;chr&gt; | .estimate &lt;dbl&gt; |\n",
       "|---|---|---|\n",
       "| accuracy | multiclass | 0.53333333 |\n",
       "| kap      | multiclass | 0.09917639 |\n",
       "\n"
      ],
      "text/plain": [
       "  .metric  .estimator .estimate \n",
       "1 accuracy multiclass 0.53333333\n",
       "2 kap      multiclass 0.09917639"
      ]
     },
     "metadata": {},
     "output_type": "display_data"
    },
    {
     "data": {
      "text/plain": [
       "          Truth\n",
       "Prediction  0  1  2  3  4\n",
       "         0 38  9  6  7  3\n",
       "         1  2  1  2  0  0\n",
       "         2  1  0  0  1  0\n",
       "         3  0  3  1  1  0\n",
       "         4  0  0  0  0  0"
      ]
     },
     "metadata": {},
     "output_type": "display_data"
    }
   ],
   "source": [
    "#build the model\n",
    "#model\n",
    "knn_spec <- nearest_neighbor(weight_func=\"rectangular\", neighbors = 13)%>%\n",
    "    set_engine(\"kknn\")%>%\n",
    "    set_mode(\"classification\")\n",
    "\n",
    "#workflow\n",
    "fit<- workflow()%>%\n",
    "    add_recipe(cleveland_recipe)%>%\n",
    "    add_model(knn_spec)%>%\n",
    "    fit(data = cleveland_training)\n",
    "\n",
    "#predict\n",
    "predictions<- predict(fit, cleveland_testing)%>%\n",
    "    bind_cols(cleveland_testing)\n",
    "predictions\n",
    "\n",
    "#find the accuracy of the predictions\n",
    "metrics<- predictions %>%\n",
    "    metrics(truth = num, estimate = .pred_class)\n",
    "metrics\n",
    "\n",
    "#confusion matrix, identifies the areas the model is weak at classifying\n",
    "conf_mat<- predictions %>%\n",
    "    conf_mat(truth = num, estimate = .pred_class)\n",
    "conf_mat"
   ]
  },
  {
   "cell_type": "code",
   "execution_count": 17,
   "metadata": {},
   "outputs": [
    {
     "ename": "ERROR",
     "evalue": "Error in png(tf, width, height, \"in\", pointsize, bg, res, antialias = antialias): unable to start device 'png'\n",
     "output_type": "error",
     "traceback": [
      "Error in png(tf, width, height, \"in\", pointsize, bg, res, antialias = antialias): unable to start device 'png'\nTraceback:\n"
     ]
    },
    {
     "data": {
      "text/plain": [
       "plot without title"
      ]
     },
     "metadata": {
      "image/png": {
       "height": 24000,
       "width": 12000
      }
     },
     "output_type": "display_data"
    }
   ],
   "source": [
    "#visualizing results\n",
    "\n",
    "plot_results <- ggplot(predictions, aes(x = thalach, y = chol, color = diag)) +\n",
    "                 geom_point() +\n",
    "                 labs(x = \"Max Heart Rate\", y = \"Cholesterol (mg/dl)\", color = \"Diagnosis\") +\n",
    "                 ggtitle(\"Predictions\")+\n",
    "                 scale_color_brewer(palette = \"Set1\")+\n",
    "                 theme(text=element_text(size=20))\n",
    "options(repr.plot.width = 200, repr.plot.height = 400)\n",
    "\n",
    "plot_results"
   ]
  },
  {
   "cell_type": "code",
   "execution_count": 13,
   "metadata": {},
   "outputs": [
    {
     "ename": "ERROR",
     "evalue": "Error in png(tf, width, height, \"in\", pointsize, bg, res, antialias = antialias): unable to start device 'png'\n",
     "output_type": "error",
     "traceback": [
      "Error in png(tf, width, height, \"in\", pointsize, bg, res, antialias = antialias): unable to start device 'png'\nTraceback:\n"
     ]
    },
    {
     "data": {
      "text/plain": [
       "plot without title"
      ]
     },
     "metadata": {
      "image/png": {
       "height": 24000,
       "width": 12000
      }
     },
     "output_type": "display_data"
    }
   ],
   "source": [
    "thalach_grid <- seq(min(cleveland_data$thalach), \n",
    "                max(cleveland_data$thalach), \n",
    "                length.out = 100)\n",
    "chol_grid <- seq(min(cleveland_data$chol), \n",
    "                max(cleveland_data$chol), \n",
    "                length.out = 100)\n",
    "asgrid <- as_tibble(expand.grid(thalach = thalach_grid, \n",
    "                                chol = chol_grid))\n",
    "knnPredGrid <- predict(fit, asgrid)\n",
    "prediction_table <- bind_cols(knnPredGrid, asgrid) %>%\n",
    " rename(diag = .pred_class)\n",
    "\n",
    "plot_results <- ggplot() + \n",
    "geom_point(data = predictions, \n",
    "             mapping = aes(x = thalach, y = chol, color = diag), \n",
    "             alpha = 0.75) +\n",
    "  geom_point(data = prediction_table, \n",
    "             mapping = aes(x = thalach, \n",
    "                           y = chol, \n",
    "                           color = diag), \n",
    "                           alpha = 0.02, \n",
    "                           size = 5) +\n",
    "  labs(x = \"Max Heart Rate\", y = \"Cholesterol (mg/dl)\", color = \"Diagnosis\") +\n",
    "  scale_color_brewer(palette = \"Set1\") +\n",
    "  theme(text=element_text(size=20))\n",
    "plot_results"
   ]
  },
  {
   "cell_type": "code",
   "execution_count": null,
   "metadata": {},
   "outputs": [],
   "source": []
  }
 ],
 "metadata": {
  "kernelspec": {
   "display_name": "R",
   "language": "R",
   "name": "ir"
  },
  "language_info": {
   "codemirror_mode": "r",
   "file_extension": ".r",
   "mimetype": "text/x-r-source",
   "name": "R",
   "pygments_lexer": "r",
   "version": "4.0.0"
  }
 },
 "nbformat": 4,
 "nbformat_minor": 4
}
